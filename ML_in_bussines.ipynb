{
 "cells": [
  {
   "cell_type": "markdown",
   "metadata": {},
   "source": [
    "<div class=\"alert alert-success\">\n",
    "<font size=\"4\"><b>✔️ Комментарий ревьюера V4</b></font>\n",
    "    <br /> \n",
    "    <font size=\"3\", color = \"black\">\n",
    "<br />    \n",
    "Что же, теперь причин отправлять тебя на доработку нет. В образовательных целях показал тебе какие ещё были пути устранения бага кроме сброса индексов. Думаю, полезно посмотреть.\n",
    "\n",
    "И на этом всё. Успехов со сборным проектом!"
   ]
  },
  {
   "cell_type": "markdown",
   "metadata": {},
   "source": [
    "<div class=\"alert alert-info\">\n",
    "<font size=\"4\">🍕<b> Комментарий ревьюера V3</b></font>\n",
    "    <br /> \n",
    "    <font size=\"3\", color = \"black\">\n",
    "<br />\n",
    "И снова добрый вечер!\n",
    "\n",
    "Указал тебе на твой недочёт при попытке исправить баг + сразу сказал важную информацию, которая поможет тебе избежать ещё одной доработки. Надеюсь, теперь получится устранить ошибку."
   ]
  },
  {
   "cell_type": "markdown",
   "metadata": {},
   "source": [
    "<div class=\"alert alert-block alert-warning\">\n",
    "<b>Комментарий студента:</b> Вроде, понял и исправил, а также обновил вывод. Было 0,6% риск убытка, стало 1,2%\n",
    "</div>"
   ]
  },
  {
   "cell_type": "markdown",
   "metadata": {},
   "source": [
    "<div class=\"alert alert-info\">\n",
    "<font size=\"4\">🍕<b> Комментарий ревьюера V2</b></font>\n",
    "    <br /> \n",
    "    <font size=\"3\", color = \"black\">\n",
    "<br />\n",
    "Привет ещё раз!\n",
    "\n",
    "В целом работа хорошая, но есть одна очень неочевидная проблема: баг с индексами в функции прибыли. Я постарался максимально подробно его описать. Надеюсь, проблем с устранением не возникнет."
   ]
  },
  {
   "cell_type": "markdown",
   "metadata": {},
   "source": [
    "<div class=\"alert alert-info\">\n",
    "<font size=\"4\"><b>Комментарий ревьюера</b></font>\n",
    "    <br /> \n",
    "    <font size=\"3\", color = \"black\">\n",
    "<br />\n",
    "    Привет, Алексей! Спасибо, что прислал задание :) <br>Меня зовут Никита Сон и я буду проверять твой проект. Предлагаю обращаться друг к другу на ты, как это принято в Практикуме, если ты не против. Но если хочешь на Вы - не буду возражать 🙂\n",
    "        \n",
    "Поехали 🚀\n",
    "    <br />\n",
    "\n",
    "Мои комментарии обозначены пометкой <b>Комментарий ревьюера</b>. При внесении правок в проект, пожалуйста, не меняй и не удаляй их т.к. дальнейшая проверка будет происходить в том числе на основе того, исправлены замечания в комментариях или нет. Зато ты всегда можешь оставить свои комментарии для меня :)\n",
    "    </font>\n",
    "</div>\n",
    "\n",
    "<div class=\"alert alert-success\">\n",
    "<font size=\"4\"><b>✔️ Комментарий ревьюера</b></font>\n",
    "    <br /> \n",
    "    <font size=\"3\", color = \"black\">\n",
    "<br />\n",
    "В зелёных блоках будут позитивные комментарии\n",
    "<br />\n",
    "    </font>\n",
    "</div>\n",
    "\n",
    "<div class=\"alert alert-warning\">\n",
    "<font size=\"4\"><b>⚠️ Комментарий ревьюера</b></font>\n",
    "    <br /> \n",
    "    <font size=\"3\", color = \"black\">\n",
    "<br />\n",
    "В жёлтых - некритичные замечания\n",
    "    </font>\n",
    "</div>\n",
    "\n",
    "<div class=\"alert alert-danger\">\n",
    "<font size=\"4\"><b>❌ Комментарий ревьюера</b></font>\n",
    "    <br /> \n",
    "    <font size=\"3\", color = \"black\">\n",
    "<br /> \n",
    "В красных - важные замечания, которые надо обязательно устранить\n",
    "    </font>\n",
    "</div>\n",
    "\n",
    "<div class=\"alert alert-info\">\n",
    "<font size=\"4\">🍕<b> Комментарий ревьюера</b></font>\n",
    "    <br /> \n",
    "    <font size=\"3\", color = \"black\">\n",
    "<br /> \n",
    "В синих с пиццей - различные нейтральные сообщения, советы на будущее и прочее.\n",
    "    </font>\n",
    "</div>"
   ]
  },
  {
   "cell_type": "markdown",
   "metadata": {},
   "source": [
    "<div class=\"alert alert-block alert-warning\">\n",
    "<b>Комментарий студента:</b> Привет! Прошу прощения, я опасался что такое будет - но надежда была на лучшее. <br>\n",
    "    В общем, случился какой-то баг, из-за которого у меня всегда восстанавливался автосейв был по состоянию на понедельник. Неважно, пытался ли я сохранить вручную или ждал. Вчера ночью обратил на это внимание (в течении недели я накидывал себе идеи или ещё какие-то вещи, - когда они пропадали ссылался на \"ну бывает\". Вчера, когда потерял часть работы - задумался, но плюнул и очень быстро все написал \"на скорую руку\". <br>\n",
    "    А сейчас случилось опять тоже самое, - т.е. отправилась версия на понедельник. <br>\n",
    "    Зато после твоего сохранения всё сохранилось, и баг ушёл. <br>\n",
    "    Прошу прощения за потраченное время!<br>\n",
    "    Дальше - только на локальной...\n",
    "</div>"
   ]
  },
  {
   "cell_type": "markdown",
   "metadata": {},
   "source": [
    "<div class=\"alert alert-block alert-warning\">\n",
    "<b>Комментарий студента:</b> Я взял на себя героическую функцию тестера, пожмякал на кнопку \"перезапустить ядро, а затем перезапустить весь блокнот и обратил внимание, что именно после этого автосохранение ломается. <br> И, кажется, plotly.express/plotly.graph_objects  являются причиной... <br>\n",
    "    Не все герои носят плащи! В техподдержку сообщу попозже...\n",
    "</div>"
   ]
  },
  {
   "cell_type": "markdown",
   "metadata": {},
   "source": [
    "<div class=\"alert alert-info\">\n",
    "<font size=\"4\">🍕<b> Комментарий ревьюера V2</b></font>\n",
    "    <br /> \n",
    "    <font size=\"3\", color = \"black\">\n",
    "<br />\n",
    "Держал в уме, что какой-то баг возможен. Начало работы было слишком хорошим, чтобы предполагать, что ты запутался )\n",
    "\n",
    "А плотли - да, убивает ядро и вызывает страдания, у меня из-за него изначально тоже не все комментарии сохранились, пришлось писать заново"
   ]
  },
  {
   "cell_type": "markdown",
   "metadata": {},
   "source": [
    "# Выбор локации для скважины"
   ]
  },
  {
   "cell_type": "markdown",
   "metadata": {},
   "source": [
    "Допустим, вы работаете в добывающей компании «ГлавРосГосНефть». Нужно решить, где бурить новую скважину.\n",
    "\n",
    "Вам предоставлены пробы нефти в трёх регионах: в каждом 10 000 месторождений, где измерили качество нефти и объём её запасов. Постройте модель машинного обучения, которая поможет определить регион, где добыча принесёт наибольшую прибыль. Проанализируйте возможную прибыль и риски техникой *Bootstrap.*\n",
    "\n",
    "Шаги для выбора локации:\n",
    "\n",
    "- В избранном регионе ищут месторождения, для каждого определяют значения признаков;\n",
    "- Строят модель и оценивают объём запасов;\n",
    "- Выбирают месторождения с самым высокими оценками значений. Количество месторождений зависит от бюджета компании и стоимости разработки одной скважины;\n",
    "- Прибыль равна суммарной прибыли отобранных месторождений."
   ]
  },
  {
   "cell_type": "markdown",
   "metadata": {},
   "source": [
    "## План работы"
   ]
  },
  {
   "cell_type": "markdown",
   "metadata": {},
   "source": [
    "1. Загрузите и подготовьте данные. Поясните порядок действий.\n",
    "2. Обучите и проверьте модель для каждого региона: <br>\n",
    " 2.1 Разбейте данные на обучающую и валидационную выборки в соотношении 75:25.<br>\n",
    " 2.2. Обучите модель и сделайте предсказания на валидационной выборке.<br>\n",
    " 2.3. Сохраните предсказания и правильные ответы на валидационной выборке.<br>\n",
    " 2.4. Напечатайте на экране средний запас предсказанного сырья и RMSE модели.<br>\n",
    " 2.5. Проанализируйте результаты.<br>\n",
    "3. Подготовьтесь к расчёту прибыли:<br>\n",
    " 3.1. Все ключевые значения для расчётов сохраните в отдельных переменных.<br>\n",
    " 3.2. Рассчитайте достаточный объём сырья для безубыточной разработки новой скважины. Сравните полученный объём сырья со средним запасом в каждом регионе. <br>\n",
    " 3.3. Напишите выводы по этапу подготовки расчёта прибыли.<br>\n",
    "4. Напишите функцию для расчёта прибыли по выбранным скважинам и предсказаниям модели:<br>\n",
    " 4.1. Выберите скважины с максимальными значениями предсказаний. <br>\n",
    " 4.2. Просуммируйте целевое значение объёма сырья, соответствующее этим предсказаниям.<br>\n",
    " 4.3. Рассчитайте прибыль для полученного объёма сырья.<br>\n",
    "5. Посчитайте риски и прибыль для каждого региона:<br>\n",
    " 5.1. Примените технику Bootstrap с 1000 выборок, чтобы найти распределение прибыли.<br>\n",
    " 5.2. Найдите среднюю прибыль, 95%-й доверительный интервал и риск убытков. Убыток — это отрицательная прибыль.<br>\n",
    " 5.3. Напишите выводы: предложите регион для разработки скважин и обоснуйте выбор.<br>"
   ]
  },
  {
   "cell_type": "markdown",
   "metadata": {},
   "source": [
    "### Описание исходных данных"
   ]
  },
  {
   "cell_type": "markdown",
   "metadata": {},
   "source": [
    "Данные геологоразведки трёх регионов находятся в файлах: <br>\n",
    "/datasets/geo_data_0.csv.<br>\n",
    "/datasets/geo_data_1.csv.<br>\n",
    "/datasets/geo_data_2.csv.<br>\n",
    "**id** — уникальный идентификатор скважины;<br>\n",
    "**f0, f1, f2** — три признака точек (неважно, что они означают, но сами признаки значимы);<br>\n",
    "**product** — объём запасов в скважине (тыс. баррелей).<br>"
   ]
  },
  {
   "cell_type": "markdown",
   "metadata": {},
   "source": [
    "### Условия задачи"
   ]
  },
  {
   "cell_type": "markdown",
   "metadata": {},
   "source": [
    "Для обучения модели подходит только линейная регрессия (остальные — недостаточно предсказуемые).<br>\n",
    "При разведке региона исследуют 500 точек, из которых с помощью машинного обучения выбирают 200 лучших для разработки.<br>\n",
    "Бюджет на разработку скважин в регионе — 10 млрд рублей.<br>\n",
    "При нынешних ценах один баррель сырья приносит 450 рублей дохода. Доход с каждой единицы продукта составляет 450 тыс. рублей, поскольку объём указан в тысячах баррелей.<br>\n",
    "После оценки рисков нужно оставить лишь те регионы, в которых вероятность убытков меньше 2.5%. Среди них выбирают регион с наибольшей средней прибылью.<br>\n",
    "Данные синтетические: детали контрактов и характеристики месторождений не разглашаются.<br>"
   ]
  },
  {
   "cell_type": "markdown",
   "metadata": {},
   "source": [
    "## Загрузка и подготовка данных"
   ]
  },
  {
   "cell_type": "markdown",
   "metadata": {},
   "source": [
    "### Загрузка библиотек"
   ]
  },
  {
   "cell_type": "code",
   "execution_count": 1,
   "metadata": {},
   "outputs": [],
   "source": [
    "import pandas as pd\n",
    "import matplotlib.pyplot as plt\n",
    "import numpy as np\n",
    "from sklearn.model_selection import train_test_split\n",
    "from sklearn.linear_model import LinearRegression\n",
    "from sklearn.metrics import mean_squared_error\n",
    "from sklearn.preprocessing import StandardScaler\n",
    "from sklearn.utils import shuffle\n",
    "import warnings\n",
    "import seaborn as sns\n",
    "import matplotlib.pyplot as plt\n",
    "\n",
    "import plotly.express as px\n",
    "import plotly.graph_objects as go\n",
    "\n",
    "seed=110923"
   ]
  },
  {
   "cell_type": "markdown",
   "metadata": {},
   "source": [
    "<div class=\"alert alert-success\">\n",
    "<font size=\"4\"><b>✔️ Комментарий ревьюера</b></font>\n",
    "    <br /> \n",
    "    <font size=\"3\", color = \"black\">\n",
    "<br />    \n",
    "Молодец, что решил сразу задать рандом. На будущее учти, что по стандарту PEP8 глобальные константы принято именовать КАПСОМ"
   ]
  },
  {
   "cell_type": "markdown",
   "metadata": {},
   "source": [
    "### Загрузка и первичное изучение данных"
   ]
  },
  {
   "cell_type": "code",
   "execution_count": 2,
   "metadata": {},
   "outputs": [],
   "source": [
    "geo_data_0 = pd.read_csv('/datasets/geo_data_0.csv')\n",
    "geo_data_1 = pd.read_csv('/datasets/geo_data_1.csv')\n",
    "geo_data_2 = pd.read_csv('/datasets/geo_data_2.csv')"
   ]
  },
  {
   "cell_type": "code",
   "execution_count": 3,
   "metadata": {},
   "outputs": [
    {
     "name": "stdout",
     "output_type": "stream",
     "text": [
      "<class 'pandas.core.frame.DataFrame'>\n",
      "RangeIndex: 100000 entries, 0 to 99999\n",
      "Data columns (total 5 columns):\n",
      " #   Column   Non-Null Count   Dtype  \n",
      "---  ------   --------------   -----  \n",
      " 0   id       100000 non-null  object \n",
      " 1   f0       100000 non-null  float64\n",
      " 2   f1       100000 non-null  float64\n",
      " 3   f2       100000 non-null  float64\n",
      " 4   product  100000 non-null  float64\n",
      "dtypes: float64(4), object(1)\n",
      "memory usage: 3.8+ MB\n"
     ]
    }
   ],
   "source": [
    "geo_data_0.info()"
   ]
  },
  {
   "cell_type": "code",
   "execution_count": 4,
   "metadata": {},
   "outputs": [
    {
     "name": "stdout",
     "output_type": "stream",
     "text": [
      "<class 'pandas.core.frame.DataFrame'>\n",
      "RangeIndex: 100000 entries, 0 to 99999\n",
      "Data columns (total 5 columns):\n",
      " #   Column   Non-Null Count   Dtype  \n",
      "---  ------   --------------   -----  \n",
      " 0   id       100000 non-null  object \n",
      " 1   f0       100000 non-null  float64\n",
      " 2   f1       100000 non-null  float64\n",
      " 3   f2       100000 non-null  float64\n",
      " 4   product  100000 non-null  float64\n",
      "dtypes: float64(4), object(1)\n",
      "memory usage: 3.8+ MB\n"
     ]
    }
   ],
   "source": [
    "geo_data_1.info()"
   ]
  },
  {
   "cell_type": "code",
   "execution_count": 5,
   "metadata": {},
   "outputs": [
    {
     "name": "stdout",
     "output_type": "stream",
     "text": [
      "<class 'pandas.core.frame.DataFrame'>\n",
      "RangeIndex: 100000 entries, 0 to 99999\n",
      "Data columns (total 5 columns):\n",
      " #   Column   Non-Null Count   Dtype  \n",
      "---  ------   --------------   -----  \n",
      " 0   id       100000 non-null  object \n",
      " 1   f0       100000 non-null  float64\n",
      " 2   f1       100000 non-null  float64\n",
      " 3   f2       100000 non-null  float64\n",
      " 4   product  100000 non-null  float64\n",
      "dtypes: float64(4), object(1)\n",
      "memory usage: 3.8+ MB\n"
     ]
    }
   ],
   "source": [
    "geo_data_2.info()"
   ]
  },
  {
   "cell_type": "code",
   "execution_count": 6,
   "metadata": {},
   "outputs": [
    {
     "data": {
      "text/html": [
       "<div>\n",
       "<style scoped>\n",
       "    .dataframe tbody tr th:only-of-type {\n",
       "        vertical-align: middle;\n",
       "    }\n",
       "\n",
       "    .dataframe tbody tr th {\n",
       "        vertical-align: top;\n",
       "    }\n",
       "\n",
       "    .dataframe thead th {\n",
       "        text-align: right;\n",
       "    }\n",
       "</style>\n",
       "<table border=\"1\" class=\"dataframe\">\n",
       "  <thead>\n",
       "    <tr style=\"text-align: right;\">\n",
       "      <th></th>\n",
       "      <th>f0</th>\n",
       "      <th>f1</th>\n",
       "      <th>f2</th>\n",
       "      <th>product</th>\n",
       "    </tr>\n",
       "  </thead>\n",
       "  <tbody>\n",
       "    <tr>\n",
       "      <th>count</th>\n",
       "      <td>100000.000000</td>\n",
       "      <td>100000.000000</td>\n",
       "      <td>100000.000000</td>\n",
       "      <td>100000.000000</td>\n",
       "    </tr>\n",
       "    <tr>\n",
       "      <th>mean</th>\n",
       "      <td>0.500419</td>\n",
       "      <td>0.250143</td>\n",
       "      <td>2.502647</td>\n",
       "      <td>92.500000</td>\n",
       "    </tr>\n",
       "    <tr>\n",
       "      <th>std</th>\n",
       "      <td>0.871832</td>\n",
       "      <td>0.504433</td>\n",
       "      <td>3.248248</td>\n",
       "      <td>44.288691</td>\n",
       "    </tr>\n",
       "    <tr>\n",
       "      <th>min</th>\n",
       "      <td>-1.408605</td>\n",
       "      <td>-0.848218</td>\n",
       "      <td>-12.088328</td>\n",
       "      <td>0.000000</td>\n",
       "    </tr>\n",
       "    <tr>\n",
       "      <th>25%</th>\n",
       "      <td>-0.072580</td>\n",
       "      <td>-0.200881</td>\n",
       "      <td>0.287748</td>\n",
       "      <td>56.497507</td>\n",
       "    </tr>\n",
       "    <tr>\n",
       "      <th>50%</th>\n",
       "      <td>0.502360</td>\n",
       "      <td>0.250252</td>\n",
       "      <td>2.515969</td>\n",
       "      <td>91.849972</td>\n",
       "    </tr>\n",
       "    <tr>\n",
       "      <th>75%</th>\n",
       "      <td>1.073581</td>\n",
       "      <td>0.700646</td>\n",
       "      <td>4.715088</td>\n",
       "      <td>128.564089</td>\n",
       "    </tr>\n",
       "    <tr>\n",
       "      <th>max</th>\n",
       "      <td>2.362331</td>\n",
       "      <td>1.343769</td>\n",
       "      <td>16.003790</td>\n",
       "      <td>185.364347</td>\n",
       "    </tr>\n",
       "  </tbody>\n",
       "</table>\n",
       "</div>"
      ],
      "text/plain": [
       "                  f0             f1             f2        product\n",
       "count  100000.000000  100000.000000  100000.000000  100000.000000\n",
       "mean        0.500419       0.250143       2.502647      92.500000\n",
       "std         0.871832       0.504433       3.248248      44.288691\n",
       "min        -1.408605      -0.848218     -12.088328       0.000000\n",
       "25%        -0.072580      -0.200881       0.287748      56.497507\n",
       "50%         0.502360       0.250252       2.515969      91.849972\n",
       "75%         1.073581       0.700646       4.715088     128.564089\n",
       "max         2.362331       1.343769      16.003790     185.364347"
      ]
     },
     "execution_count": 6,
     "metadata": {},
     "output_type": "execute_result"
    }
   ],
   "source": [
    "geo_data_0.describe()"
   ]
  },
  {
   "cell_type": "code",
   "execution_count": 7,
   "metadata": {},
   "outputs": [
    {
     "data": {
      "text/html": [
       "<div>\n",
       "<style scoped>\n",
       "    .dataframe tbody tr th:only-of-type {\n",
       "        vertical-align: middle;\n",
       "    }\n",
       "\n",
       "    .dataframe tbody tr th {\n",
       "        vertical-align: top;\n",
       "    }\n",
       "\n",
       "    .dataframe thead th {\n",
       "        text-align: right;\n",
       "    }\n",
       "</style>\n",
       "<table border=\"1\" class=\"dataframe\">\n",
       "  <thead>\n",
       "    <tr style=\"text-align: right;\">\n",
       "      <th></th>\n",
       "      <th>f0</th>\n",
       "      <th>f1</th>\n",
       "      <th>f2</th>\n",
       "      <th>product</th>\n",
       "    </tr>\n",
       "  </thead>\n",
       "  <tbody>\n",
       "    <tr>\n",
       "      <th>count</th>\n",
       "      <td>100000.000000</td>\n",
       "      <td>100000.000000</td>\n",
       "      <td>100000.000000</td>\n",
       "      <td>100000.000000</td>\n",
       "    </tr>\n",
       "    <tr>\n",
       "      <th>mean</th>\n",
       "      <td>1.141296</td>\n",
       "      <td>-4.796579</td>\n",
       "      <td>2.494541</td>\n",
       "      <td>68.825000</td>\n",
       "    </tr>\n",
       "    <tr>\n",
       "      <th>std</th>\n",
       "      <td>8.965932</td>\n",
       "      <td>5.119872</td>\n",
       "      <td>1.703572</td>\n",
       "      <td>45.944423</td>\n",
       "    </tr>\n",
       "    <tr>\n",
       "      <th>min</th>\n",
       "      <td>-31.609576</td>\n",
       "      <td>-26.358598</td>\n",
       "      <td>-0.018144</td>\n",
       "      <td>0.000000</td>\n",
       "    </tr>\n",
       "    <tr>\n",
       "      <th>25%</th>\n",
       "      <td>-6.298551</td>\n",
       "      <td>-8.267985</td>\n",
       "      <td>1.000021</td>\n",
       "      <td>26.953261</td>\n",
       "    </tr>\n",
       "    <tr>\n",
       "      <th>50%</th>\n",
       "      <td>1.153055</td>\n",
       "      <td>-4.813172</td>\n",
       "      <td>2.011479</td>\n",
       "      <td>57.085625</td>\n",
       "    </tr>\n",
       "    <tr>\n",
       "      <th>75%</th>\n",
       "      <td>8.621015</td>\n",
       "      <td>-1.332816</td>\n",
       "      <td>3.999904</td>\n",
       "      <td>107.813044</td>\n",
       "    </tr>\n",
       "    <tr>\n",
       "      <th>max</th>\n",
       "      <td>29.421755</td>\n",
       "      <td>18.734063</td>\n",
       "      <td>5.019721</td>\n",
       "      <td>137.945408</td>\n",
       "    </tr>\n",
       "  </tbody>\n",
       "</table>\n",
       "</div>"
      ],
      "text/plain": [
       "                  f0             f1             f2        product\n",
       "count  100000.000000  100000.000000  100000.000000  100000.000000\n",
       "mean        1.141296      -4.796579       2.494541      68.825000\n",
       "std         8.965932       5.119872       1.703572      45.944423\n",
       "min       -31.609576     -26.358598      -0.018144       0.000000\n",
       "25%        -6.298551      -8.267985       1.000021      26.953261\n",
       "50%         1.153055      -4.813172       2.011479      57.085625\n",
       "75%         8.621015      -1.332816       3.999904     107.813044\n",
       "max        29.421755      18.734063       5.019721     137.945408"
      ]
     },
     "execution_count": 7,
     "metadata": {},
     "output_type": "execute_result"
    }
   ],
   "source": [
    "geo_data_1.describe()"
   ]
  },
  {
   "cell_type": "code",
   "execution_count": 8,
   "metadata": {},
   "outputs": [
    {
     "data": {
      "text/html": [
       "<div>\n",
       "<style scoped>\n",
       "    .dataframe tbody tr th:only-of-type {\n",
       "        vertical-align: middle;\n",
       "    }\n",
       "\n",
       "    .dataframe tbody tr th {\n",
       "        vertical-align: top;\n",
       "    }\n",
       "\n",
       "    .dataframe thead th {\n",
       "        text-align: right;\n",
       "    }\n",
       "</style>\n",
       "<table border=\"1\" class=\"dataframe\">\n",
       "  <thead>\n",
       "    <tr style=\"text-align: right;\">\n",
       "      <th></th>\n",
       "      <th>f0</th>\n",
       "      <th>f1</th>\n",
       "      <th>f2</th>\n",
       "      <th>product</th>\n",
       "    </tr>\n",
       "  </thead>\n",
       "  <tbody>\n",
       "    <tr>\n",
       "      <th>count</th>\n",
       "      <td>100000.000000</td>\n",
       "      <td>100000.000000</td>\n",
       "      <td>100000.000000</td>\n",
       "      <td>100000.000000</td>\n",
       "    </tr>\n",
       "    <tr>\n",
       "      <th>mean</th>\n",
       "      <td>0.002023</td>\n",
       "      <td>-0.002081</td>\n",
       "      <td>2.495128</td>\n",
       "      <td>95.000000</td>\n",
       "    </tr>\n",
       "    <tr>\n",
       "      <th>std</th>\n",
       "      <td>1.732045</td>\n",
       "      <td>1.730417</td>\n",
       "      <td>3.473445</td>\n",
       "      <td>44.749921</td>\n",
       "    </tr>\n",
       "    <tr>\n",
       "      <th>min</th>\n",
       "      <td>-8.760004</td>\n",
       "      <td>-7.084020</td>\n",
       "      <td>-11.970335</td>\n",
       "      <td>0.000000</td>\n",
       "    </tr>\n",
       "    <tr>\n",
       "      <th>25%</th>\n",
       "      <td>-1.162288</td>\n",
       "      <td>-1.174820</td>\n",
       "      <td>0.130359</td>\n",
       "      <td>59.450441</td>\n",
       "    </tr>\n",
       "    <tr>\n",
       "      <th>50%</th>\n",
       "      <td>0.009424</td>\n",
       "      <td>-0.009482</td>\n",
       "      <td>2.484236</td>\n",
       "      <td>94.925613</td>\n",
       "    </tr>\n",
       "    <tr>\n",
       "      <th>75%</th>\n",
       "      <td>1.158535</td>\n",
       "      <td>1.163678</td>\n",
       "      <td>4.858794</td>\n",
       "      <td>130.595027</td>\n",
       "    </tr>\n",
       "    <tr>\n",
       "      <th>max</th>\n",
       "      <td>7.238262</td>\n",
       "      <td>7.844801</td>\n",
       "      <td>16.739402</td>\n",
       "      <td>190.029838</td>\n",
       "    </tr>\n",
       "  </tbody>\n",
       "</table>\n",
       "</div>"
      ],
      "text/plain": [
       "                  f0             f1             f2        product\n",
       "count  100000.000000  100000.000000  100000.000000  100000.000000\n",
       "mean        0.002023      -0.002081       2.495128      95.000000\n",
       "std         1.732045       1.730417       3.473445      44.749921\n",
       "min        -8.760004      -7.084020     -11.970335       0.000000\n",
       "25%        -1.162288      -1.174820       0.130359      59.450441\n",
       "50%         0.009424      -0.009482       2.484236      94.925613\n",
       "75%         1.158535       1.163678       4.858794     130.595027\n",
       "max         7.238262       7.844801      16.739402     190.029838"
      ]
     },
     "execution_count": 8,
     "metadata": {},
     "output_type": "execute_result"
    }
   ],
   "source": [
    "geo_data_2.describe()"
   ]
  },
  {
   "cell_type": "code",
   "execution_count": 9,
   "metadata": {},
   "outputs": [
    {
     "data": {
      "text/plain": [
       "0"
      ]
     },
     "execution_count": 9,
     "metadata": {},
     "output_type": "execute_result"
    }
   ],
   "source": [
    "geo_data_0.duplicated().sum()"
   ]
  },
  {
   "cell_type": "code",
   "execution_count": 10,
   "metadata": {},
   "outputs": [
    {
     "data": {
      "text/plain": [
       "0"
      ]
     },
     "execution_count": 10,
     "metadata": {},
     "output_type": "execute_result"
    }
   ],
   "source": [
    "geo_data_1.duplicated().sum()"
   ]
  },
  {
   "cell_type": "code",
   "execution_count": 11,
   "metadata": {},
   "outputs": [
    {
     "data": {
      "text/plain": [
       "0"
      ]
     },
     "execution_count": 11,
     "metadata": {},
     "output_type": "execute_result"
    }
   ],
   "source": [
    "geo_data_2.duplicated().sum()"
   ]
  },
  {
   "cell_type": "markdown",
   "metadata": {},
   "source": [
    "<div class=\"alert alert-info\">\n",
    "<font size=\"4\">🍕<b> Комментарий ревьюера</b></font>\n",
    "    <br /> \n",
    "    <font size=\"3\", color = \"black\">\n",
    "<br /> \n",
    "Несмотря на то, что нет явных дубликатов, есть повторяющиеся id с разными количественными признаками. Их очень мало, меньше 0.1% данных, но надо понимать: дубликаты могут не быть одинаковыми на все 100% и такое тоже очень желательно обнаруживать."
   ]
  },
  {
   "cell_type": "code",
   "execution_count": 12,
   "metadata": {},
   "outputs": [
    {
     "data": {
      "text/html": [
       "<div>\n",
       "<style scoped>\n",
       "    .dataframe tbody tr th:only-of-type {\n",
       "        vertical-align: middle;\n",
       "    }\n",
       "\n",
       "    .dataframe tbody tr th {\n",
       "        vertical-align: top;\n",
       "    }\n",
       "\n",
       "    .dataframe thead th {\n",
       "        text-align: right;\n",
       "    }\n",
       "</style>\n",
       "<table border=\"1\" class=\"dataframe\">\n",
       "  <thead>\n",
       "    <tr style=\"text-align: right;\">\n",
       "      <th></th>\n",
       "      <th>id</th>\n",
       "      <th>f0</th>\n",
       "      <th>f1</th>\n",
       "      <th>f2</th>\n",
       "      <th>product</th>\n",
       "    </tr>\n",
       "  </thead>\n",
       "  <tbody>\n",
       "    <tr>\n",
       "      <th>0</th>\n",
       "      <td>txEyH</td>\n",
       "      <td>0.705745</td>\n",
       "      <td>-0.497823</td>\n",
       "      <td>1.221170</td>\n",
       "      <td>105.280062</td>\n",
       "    </tr>\n",
       "    <tr>\n",
       "      <th>1</th>\n",
       "      <td>2acmU</td>\n",
       "      <td>1.334711</td>\n",
       "      <td>-0.340164</td>\n",
       "      <td>4.365080</td>\n",
       "      <td>73.037750</td>\n",
       "    </tr>\n",
       "    <tr>\n",
       "      <th>2</th>\n",
       "      <td>409Wp</td>\n",
       "      <td>1.022732</td>\n",
       "      <td>0.151990</td>\n",
       "      <td>1.419926</td>\n",
       "      <td>85.265647</td>\n",
       "    </tr>\n",
       "    <tr>\n",
       "      <th>3</th>\n",
       "      <td>iJLyR</td>\n",
       "      <td>-0.032172</td>\n",
       "      <td>0.139033</td>\n",
       "      <td>2.978566</td>\n",
       "      <td>168.620776</td>\n",
       "    </tr>\n",
       "    <tr>\n",
       "      <th>4</th>\n",
       "      <td>Xdl7t</td>\n",
       "      <td>1.988431</td>\n",
       "      <td>0.155413</td>\n",
       "      <td>4.751769</td>\n",
       "      <td>154.036647</td>\n",
       "    </tr>\n",
       "  </tbody>\n",
       "</table>\n",
       "</div>"
      ],
      "text/plain": [
       "      id        f0        f1        f2     product\n",
       "0  txEyH  0.705745 -0.497823  1.221170  105.280062\n",
       "1  2acmU  1.334711 -0.340164  4.365080   73.037750\n",
       "2  409Wp  1.022732  0.151990  1.419926   85.265647\n",
       "3  iJLyR -0.032172  0.139033  2.978566  168.620776\n",
       "4  Xdl7t  1.988431  0.155413  4.751769  154.036647"
      ]
     },
     "execution_count": 12,
     "metadata": {},
     "output_type": "execute_result"
    }
   ],
   "source": [
    "geo_data_0.head(5)"
   ]
  },
  {
   "cell_type": "markdown",
   "metadata": {},
   "source": [
    "**Вывод:** <br>\n",
    "1. В полученных данных отсутствуют пропуски и дубликаты <br>\n",
    "2. Столбец 'id' является статистически незначимой, и будет исключена."
   ]
  },
  {
   "cell_type": "markdown",
   "metadata": {},
   "source": [
    "<div class=\"alert alert-warning\">\n",
    "<font size=\"4\"><b>⚠️ Комментарий ревьюера</b></font>\n",
    "    <br /> \n",
    "    <font size=\"3\", color = \"black\">\n",
    "<br />\n",
    "У нас по ТЗ используется линейная модель, что говорит о том, что нам важно не столкнуться с проблемой мультиколлинеарности, для чего был смысл вычислить корреляции признаков. Этого не хватает твоему EDA"
   ]
  },
  {
   "cell_type": "code",
   "execution_count": 13,
   "metadata": {},
   "outputs": [
    {
     "data": {
      "image/png": "[encoded data removed]",
      "text/plain": [
       "<Figure size 1152x432 with 2 Axes>"
      ]
     },
     "metadata": {
      "needs_background": "light"
     },
     "output_type": "display_data"
    }
   ],
   "source": [
    "plt.figure(figsize=(16, 6))\n",
    "heatmap = sns.heatmap(geo_data_0.corr(), vmin=-1, vmax=1, annot=True, cmap='BrBG')\n",
    "heatmap.set_title('Тепловая карта корреляции для участка №0', fontdict={'fontsize':18}, pad=12); "
   ]
  },
  {
   "cell_type": "code",
   "execution_count": 14,
   "metadata": {},
   "outputs": [
    {
     "data": {
      "image/png": "[encoded data removed]",
      "text/plain": [
       "<Figure size 1152x432 with 2 Axes>"
      ]
     },
     "metadata": {
      "needs_background": "light"
     },
     "output_type": "display_data"
    }
   ],
   "source": [
    "plt.figure(figsize=(16, 6))\n",
    "heatmap = sns.heatmap(geo_data_1.corr(), vmin=-1, vmax=1, annot=True, cmap='BrBG')\n",
    "heatmap.set_title('Тепловая карта корреляции для участка №1', fontdict={'fontsize':18}, pad=12); "
   ]
  },
  {
   "cell_type": "code",
   "execution_count": 15,
   "metadata": {},
   "outputs": [
    {
     "data": {
      "image/png": "[encoded data removed]",
      "text/plain": [
       "<Figure size 1152x432 with 2 Axes>"
      ]
     },
     "metadata": {
      "needs_background": "light"
     },
     "output_type": "display_data"
    }
   ],
   "source": [
    "plt.figure(figsize=(16, 6))\n",
    "heatmap = sns.heatmap(geo_data_2.corr(), vmin=-1, vmax=1, annot=True, cmap='BrBG')\n",
    "heatmap.set_title('Тепловая карта корреляции для участка №2', fontdict={'fontsize':18}, pad=12); "
   ]
  },
  {
   "cell_type": "markdown",
   "metadata": {},
   "source": [
    "Следует отметить, что участок №1 единственный имеет 100% корреляцию между параметрами f2 и product."
   ]
  },
  {
   "cell_type": "markdown",
   "metadata": {},
   "source": [
    "### Обработка данных и изучение графиков"
   ]
  },
  {
   "cell_type": "markdown",
   "metadata": {},
   "source": [
    "В соответствии с выводом из прошлого этапа, исключаем id (уникальный идентификатор скважины) из данных. "
   ]
  },
  {
   "cell_type": "code",
   "execution_count": 16,
   "metadata": {},
   "outputs": [],
   "source": [
    "geo_data_0 = geo_data_0.drop(['id'], axis=1)\n",
    "geo_data_1 = geo_data_1.drop(['id'], axis=1)\n",
    "geo_data_2 = geo_data_2.drop(['id'], axis=1)"
   ]
  },
  {
   "cell_type": "code",
   "execution_count": 17,
   "metadata": {},
   "outputs": [],
   "source": [
    "#fig_all_product = go.Figure()\n",
    "#fig_all_product.add_trace(go.Histogram(x=geo_data_0['product'], opacity=0.75, name='Регион №1' ))\n",
    "#fig_all_product.add_trace(go.Histogram(x=geo_data_1['product'], opacity=0.75, name='Регион №2'))\n",
    "#fig_all_product.add_trace(go.Histogram(x=geo_data_2['product'], opacity=0.75, name='Регион №3'))\n",
    "#fig_all_product.update_layout(\n",
    "#    title=\"Сводная диаграмма по объему запасов в регионах №1-3\",\n",
    "#    xaxis_title=\"тыс. баррелей\",\n",
    "#    yaxis_title=\"количество скважин\",\n",
    "#    legend=dict(x=.5, xanchor=\"center\", orientation=\"h\"),\n",
    "#    barmode='overlay',\n",
    "#    margin=dict(l=0, r=0, t=30, b=0))\n",
    "#fig_all_product.show()"
   ]
  },
  {
   "cell_type": "code",
   "execution_count": null,
   "metadata": {},
   "outputs": [],
   "source": []
  },
  {
   "cell_type": "code",
   "execution_count": 18,
   "metadata": {
    "scrolled": true
   },
   "outputs": [],
   "source": [
    "# fig_all_f0 = go.Figure()\n",
    "# fig_all_f0.add_trace(go.Histogram(x=geo_data_0['f0'], opacity=0.75, name='Регион №1'))\n",
    "# fig_all_f0.add_trace(go.Histogram(x=geo_data_1['f0'], opacity=0.75, name='Регион №2'))\n",
    "# fig_all_f0.add_trace(go.Histogram(x=geo_data_2['f0'], opacity=0.75, name='Регион №3'))\n",
    "# fig_all_f0.update_layout(\n",
    "#     title=\"Сводная диаграмма по параметру f0 в регионах №1-3\",\n",
    "#     xaxis_title=\"ед\",\n",
    "#     yaxis_title=\"количество скважин\",\n",
    "#     legend=dict(x=.5, xanchor=\"center\", orientation=\"h\"),\n",
    "#     barmode='overlay',\n",
    "#     margin=dict(l=0, r=0, t=30, b=0))\n",
    "# fig_all_f0.show()"
   ]
  },
  {
   "cell_type": "code",
   "execution_count": 19,
   "metadata": {},
   "outputs": [],
   "source": [
    "# fig_all_f1 = go.Figure()\n",
    "# fig_all_f1.add_trace(go.Histogram(x=geo_data_0['f1'], opacity=0.75, name='Регион №1'))\n",
    "# fig_all_f1.add_trace(go.Histogram(x=geo_data_1['f1'], opacity=0.75, name='Регион №2'))\n",
    "# fig_all_f1.add_trace(go.Histogram(x=geo_data_2['f1'], opacity=0.75, name='Регион №3'))\n",
    "# fig_all_f1.update_layout(\n",
    "#     title=\"Сводная диаграмма по параметру f1 в регионах №1-3\",\n",
    "#     xaxis_title=\"ед\",\n",
    "#     yaxis_title=\"количество скважин\",\n",
    "#     legend=dict(x=.5, xanchor=\"center\", orientation=\"h\"),\n",
    "#     barmode='overlay',\n",
    "#     margin=dict(l=0, r=0, t=30, b=0))\n",
    "# fig_all_f1.show()"
   ]
  },
  {
   "cell_type": "code",
   "execution_count": 20,
   "metadata": {},
   "outputs": [],
   "source": [
    "# fig_all_f2 = go.Figure()\n",
    "# fig_all_f2.add_trace(go.Histogram(x=geo_data_0['f2'], opacity=0.75, name='Регион №1'))\n",
    "# fig_all_f2.add_trace(go.Histogram(x=geo_data_1['f2'], opacity=0.75, name='Регион №2'))\n",
    "# fig_all_f2.add_trace(go.Histogram(x=geo_data_2['f2'], opacity=0.75, name='Регион №3'))\n",
    "# fig_all_f2.update_layout(\n",
    "#     title=\"Сводная диаграмма по параметру f2 в регионах №1-3\",\n",
    "#     xaxis_title=\"ед\",\n",
    "#     yaxis_title=\"количество скважин\",\n",
    "#     legend=dict(x=.5, xanchor=\"center\", orientation=\"h\"),\n",
    "#     barmode='overlay',\n",
    "#     margin=dict(l=0, r=0, t=30, b=0))\n",
    "# fig_all_f2.show()"
   ]
  },
  {
   "cell_type": "markdown",
   "metadata": {},
   "source": [
    "**Вывод:** <br>\n",
    "Построены сводные гистраграммы по целевому признаку 'product', а также по признакам модели 'f1', 'f2', 'f3'. <br>\n",
    "Регион №1 и Регион №3 имеют схожее распределение запасов нефти, в то время как как регион №2 имеет более выраженную консолидацию вокруг определенных значений. Форма распределения может быть обусловлена точностью применяемого оборудования, а также человеческим фактором (с т.з. приведение значений к какому-либо стандартному ряду), либо же синтезированными данными <br>"
   ]
  },
  {
   "cell_type": "markdown",
   "metadata": {},
   "source": [
    "<div class=\"alert alert-success\">\n",
    "<font size=\"4\"><b>✔️ Комментарий ревьюера</b></font>\n",
    "    <br /> \n",
    "    <font size=\"3\", color = \"black\">\n",
    "<br />\n",
    "Я ревьюер простой: вижу гистограммы - пишу зелёный комментарий."
   ]
  },
  {
   "cell_type": "markdown",
   "metadata": {},
   "source": [
    "## Обучение и проверка модели"
   ]
  },
  {
   "cell_type": "markdown",
   "metadata": {},
   "source": [
    "### Разбивка на выборки"
   ]
  },
  {
   "cell_type": "code",
   "execution_count": 21,
   "metadata": {},
   "outputs": [],
   "source": [
    "def region_split(data, target):\n",
    "    features = data.drop([target] , axis=1)\n",
    "    target = data[target]\n",
    "\n",
    "    features_train, features_valid, target_train, target_valid = train_test_split(\n",
    "    features, target, test_size=0.25, random_state=seed)\n",
    "    \n",
    "    return features_train, features_valid, target_train, target_valid"
   ]
  },
  {
   "cell_type": "code",
   "execution_count": 22,
   "metadata": {},
   "outputs": [
    {
     "data": {
      "text/html": [
       "<div>\n",
       "<style scoped>\n",
       "    .dataframe tbody tr th:only-of-type {\n",
       "        vertical-align: middle;\n",
       "    }\n",
       "\n",
       "    .dataframe tbody tr th {\n",
       "        vertical-align: top;\n",
       "    }\n",
       "\n",
       "    .dataframe thead th {\n",
       "        text-align: right;\n",
       "    }\n",
       "</style>\n",
       "<table border=\"1\" class=\"dataframe\">\n",
       "  <thead>\n",
       "    <tr style=\"text-align: right;\">\n",
       "      <th></th>\n",
       "      <th>f0</th>\n",
       "      <th>f1</th>\n",
       "      <th>f2</th>\n",
       "    </tr>\n",
       "  </thead>\n",
       "  <tbody>\n",
       "    <tr>\n",
       "      <th>99701</th>\n",
       "      <td>0.939814</td>\n",
       "      <td>-0.567723</td>\n",
       "      <td>6.938562</td>\n",
       "    </tr>\n",
       "    <tr>\n",
       "      <th>34706</th>\n",
       "      <td>0.921092</td>\n",
       "      <td>0.172576</td>\n",
       "      <td>7.850818</td>\n",
       "    </tr>\n",
       "    <tr>\n",
       "      <th>63952</th>\n",
       "      <td>1.906421</td>\n",
       "      <td>0.345695</td>\n",
       "      <td>3.090109</td>\n",
       "    </tr>\n",
       "    <tr>\n",
       "      <th>12089</th>\n",
       "      <td>1.230229</td>\n",
       "      <td>-0.473351</td>\n",
       "      <td>2.888884</td>\n",
       "    </tr>\n",
       "    <tr>\n",
       "      <th>43253</th>\n",
       "      <td>0.092268</td>\n",
       "      <td>0.826024</td>\n",
       "      <td>-1.696042</td>\n",
       "    </tr>\n",
       "  </tbody>\n",
       "</table>\n",
       "</div>"
      ],
      "text/plain": [
       "             f0        f1        f2\n",
       "99701  0.939814 -0.567723  6.938562\n",
       "34706  0.921092  0.172576  7.850818\n",
       "63952  1.906421  0.345695  3.090109\n",
       "12089  1.230229 -0.473351  2.888884\n",
       "43253  0.092268  0.826024 -1.696042"
      ]
     },
     "execution_count": 22,
     "metadata": {},
     "output_type": "execute_result"
    }
   ],
   "source": [
    "features_train_reg_00, features_valid_reg_00, target_train_reg_00, target_valid_reg_00 = region_split(geo_data_0, 'product')\n",
    "features_train_reg_00.head()"
   ]
  },
  {
   "cell_type": "code",
   "execution_count": 23,
   "metadata": {},
   "outputs": [
    {
     "data": {
      "text/html": [
       "<div>\n",
       "<style scoped>\n",
       "    .dataframe tbody tr th:only-of-type {\n",
       "        vertical-align: middle;\n",
       "    }\n",
       "\n",
       "    .dataframe tbody tr th {\n",
       "        vertical-align: top;\n",
       "    }\n",
       "\n",
       "    .dataframe thead th {\n",
       "        text-align: right;\n",
       "    }\n",
       "</style>\n",
       "<table border=\"1\" class=\"dataframe\">\n",
       "  <thead>\n",
       "    <tr style=\"text-align: right;\">\n",
       "      <th></th>\n",
       "      <th>f0</th>\n",
       "      <th>f1</th>\n",
       "      <th>f2</th>\n",
       "    </tr>\n",
       "  </thead>\n",
       "  <tbody>\n",
       "    <tr>\n",
       "      <th>99701</th>\n",
       "      <td>9.070010</td>\n",
       "      <td>-9.623002</td>\n",
       "      <td>4.006108</td>\n",
       "    </tr>\n",
       "    <tr>\n",
       "      <th>34706</th>\n",
       "      <td>17.428492</td>\n",
       "      <td>-7.908890</td>\n",
       "      <td>4.994175</td>\n",
       "    </tr>\n",
       "    <tr>\n",
       "      <th>63952</th>\n",
       "      <td>-2.233210</td>\n",
       "      <td>-3.571078</td>\n",
       "      <td>2.996109</td>\n",
       "    </tr>\n",
       "    <tr>\n",
       "      <th>12089</th>\n",
       "      <td>2.116491</td>\n",
       "      <td>-4.081549</td>\n",
       "      <td>4.991937</td>\n",
       "    </tr>\n",
       "    <tr>\n",
       "      <th>43253</th>\n",
       "      <td>-10.959806</td>\n",
       "      <td>-7.685558</td>\n",
       "      <td>3.015871</td>\n",
       "    </tr>\n",
       "  </tbody>\n",
       "</table>\n",
       "</div>"
      ],
      "text/plain": [
       "              f0        f1        f2\n",
       "99701   9.070010 -9.623002  4.006108\n",
       "34706  17.428492 -7.908890  4.994175\n",
       "63952  -2.233210 -3.571078  2.996109\n",
       "12089   2.116491 -4.081549  4.991937\n",
       "43253 -10.959806 -7.685558  3.015871"
      ]
     },
     "execution_count": 23,
     "metadata": {},
     "output_type": "execute_result"
    }
   ],
   "source": [
    "features_train_reg_01, features_valid_reg_01, target_train_reg_01, target_valid_reg_01 = region_split(geo_data_1, 'product')\n",
    "features_train_reg_01.head()"
   ]
  },
  {
   "cell_type": "code",
   "execution_count": 24,
   "metadata": {},
   "outputs": [
    {
     "data": {
      "text/html": [
       "<div>\n",
       "<style scoped>\n",
       "    .dataframe tbody tr th:only-of-type {\n",
       "        vertical-align: middle;\n",
       "    }\n",
       "\n",
       "    .dataframe tbody tr th {\n",
       "        vertical-align: top;\n",
       "    }\n",
       "\n",
       "    .dataframe thead th {\n",
       "        text-align: right;\n",
       "    }\n",
       "</style>\n",
       "<table border=\"1\" class=\"dataframe\">\n",
       "  <thead>\n",
       "    <tr style=\"text-align: right;\">\n",
       "      <th></th>\n",
       "      <th>f0</th>\n",
       "      <th>f1</th>\n",
       "      <th>f2</th>\n",
       "    </tr>\n",
       "  </thead>\n",
       "  <tbody>\n",
       "    <tr>\n",
       "      <th>99701</th>\n",
       "      <td>-2.902168</td>\n",
       "      <td>3.051963</td>\n",
       "      <td>4.283602</td>\n",
       "    </tr>\n",
       "    <tr>\n",
       "      <th>34706</th>\n",
       "      <td>-0.117701</td>\n",
       "      <td>1.214734</td>\n",
       "      <td>5.084269</td>\n",
       "    </tr>\n",
       "    <tr>\n",
       "      <th>63952</th>\n",
       "      <td>0.800679</td>\n",
       "      <td>0.820290</td>\n",
       "      <td>1.967258</td>\n",
       "    </tr>\n",
       "    <tr>\n",
       "      <th>12089</th>\n",
       "      <td>-3.214595</td>\n",
       "      <td>3.024660</td>\n",
       "      <td>-0.730989</td>\n",
       "    </tr>\n",
       "    <tr>\n",
       "      <th>43253</th>\n",
       "      <td>-0.975012</td>\n",
       "      <td>0.175123</td>\n",
       "      <td>5.992615</td>\n",
       "    </tr>\n",
       "  </tbody>\n",
       "</table>\n",
       "</div>"
      ],
      "text/plain": [
       "             f0        f1        f2\n",
       "99701 -2.902168  3.051963  4.283602\n",
       "34706 -0.117701  1.214734  5.084269\n",
       "63952  0.800679  0.820290  1.967258\n",
       "12089 -3.214595  3.024660 -0.730989\n",
       "43253 -0.975012  0.175123  5.992615"
      ]
     },
     "execution_count": 24,
     "metadata": {},
     "output_type": "execute_result"
    }
   ],
   "source": [
    "features_train_reg_02, features_valid_reg_02, target_train_reg_02, target_valid_reg_02 = region_split(geo_data_2, 'product')\n",
    "features_train_reg_02.head()"
   ]
  },
  {
   "cell_type": "markdown",
   "metadata": {},
   "source": [
    "### Обучение моделей"
   ]
  },
  {
   "cell_type": "code",
   "execution_count": 25,
   "metadata": {},
   "outputs": [],
   "source": [
    "#модель для нулевого региона\n",
    "model = LinearRegression()\n",
    "\n",
    "model.fit(features_train_reg_00, target_train_reg_00)\n",
    "\n",
    "predicted_reg_00 = model.predict(features_valid_reg_00)\n",
    "\n",
    "mse_reg_00 = mean_squared_error(target_valid_reg_00, predicted_reg_00)\n",
    "rmse_reg_00 = mse_reg_00**0.5\n",
    "reg_00_mean = predicted_reg_00.mean()\n"
   ]
  },
  {
   "cell_type": "code",
   "execution_count": 26,
   "metadata": {},
   "outputs": [],
   "source": [
    "#модель для первого региона\n",
    "model = LinearRegression()\n",
    "\n",
    "model.fit(features_train_reg_01, target_train_reg_01)\n",
    "\n",
    "predicted_reg_01 = model.predict(features_valid_reg_01)\n",
    "\n",
    "mse_reg_01 = mean_squared_error(target_valid_reg_01, predicted_reg_01)\n",
    "rmse_reg_01 = mse_reg_01**0.5\n",
    "reg_01_mean = predicted_reg_01.mean()\n"
   ]
  },
  {
   "cell_type": "code",
   "execution_count": 27,
   "metadata": {},
   "outputs": [],
   "source": [
    "#модель для второго региона\n",
    "model = LinearRegression()\n",
    "\n",
    "model.fit(features_train_reg_02, target_train_reg_02)\n",
    "\n",
    "predicted_reg_02 = model.predict(features_valid_reg_02)\n",
    "\n",
    "mse_reg_02 = mean_squared_error(target_valid_reg_02, predicted_reg_02)\n",
    "rmse_reg_02 = mse_reg_02**0.5\n",
    "reg_02_mean = predicted_reg_02.mean()\n"
   ]
  },
  {
   "cell_type": "code",
   "execution_count": 28,
   "metadata": {},
   "outputs": [
    {
     "data": {
      "image/png": "[encoded data removed]",
      "text/plain": [
       "<Figure size 432x288 with 1 Axes>"
      ]
     },
     "metadata": {
      "needs_background": "light"
     },
     "output_type": "display_data"
    }
   ],
   "source": [
    "fig, ax = plt.subplots()\n",
    "\n",
    "\n",
    "table_data=[\n",
    "  [\"Регион 00\", round(mse_reg_00, 3), rmse_reg_00, reg_00_mean],\n",
    "   [\"Регион 01\", round(mse_reg_01, 3), rmse_reg_01, reg_01_mean],\n",
    "   [\"Регион 02\", round(mse_reg_02, 3), rmse_reg_02, reg_02_mean],\n",
    "]\n",
    "\n",
    "\n",
    "\n",
    "table = ax.table(cellText=table_data, loc='center',colLabels = ['Наименование', 'MSE', 'RMSE', 'Средний запас нефти'] )\n",
    "\n",
    "table.set_fontsize (14)\n",
    "table. scale (4,4)\n",
    "ax.axis('off')\n",
    "\n",
    "plt.show() "
   ]
  },
  {
   "cell_type": "markdown",
   "metadata": {},
   "source": [
    "Запишем полученные значения дополнительно для дальнейшей работы."
   ]
  },
  {
   "cell_type": "code",
   "execution_count": 29,
   "metadata": {},
   "outputs": [],
   "source": [
    "target_valid_reg_00 = pd.Series(target_valid_reg_00)\n",
    "predicted_reg_00 = pd.Series (predicted_reg_00, index = target_valid_reg_00.index)\n",
    "target_valid_reg_01 = pd.Series(target_valid_reg_01)\n",
    "predicted_reg_01 = pd.Series (predicted_reg_01, index = target_valid_reg_01.index)\n",
    "target_valid_reg_02 = pd.Series(target_valid_reg_02)\n",
    "predicted_reg_02 = pd.Series (predicted_reg_02, index = target_valid_reg_02.index)"
   ]
  },
  {
   "cell_type": "markdown",
   "metadata": {},
   "source": [
    "<div class=\"alert alert-success\">\n",
    "<font size=\"4\"><b>✔️ Комментарий ревьюера</b></font>\n",
    "    <br /> \n",
    "    <font size=\"3\", color = \"black\">\n",
    "<br />\n",
    "Получены адекватные модели"
   ]
  },
  {
   "cell_type": "markdown",
   "metadata": {},
   "source": [
    "## Подготовка к расчёту прибыли"
   ]
  },
  {
   "cell_type": "markdown",
   "metadata": {},
   "source": [
    "Повторим исходные данные, а также запишем в переменные основные показатели.<br>\n",
    "При разведке региона исследуют **500 точек**, из которых с помощью машинного обучения выбирают **200 лучших** для разработки.<br>\n",
    "Бюджет на разработку скважин в регионе — **10 млрд рублей**.<br>\n",
    "При нынешних ценах один баррель сырья приносит **450 рублей дохода**. Доход с каждой единицы продукта составляет **450 тыс. рублей**, поскольку объём указан в тысячах баррелей.<br>\n",
    "После оценки рисков нужно оставить лишь те регионы, **в которых вероятность убытков меньше 2.5%**. Среди них выбирают регион с наибольшей средней прибылью.<br>"
   ]
  },
  {
   "cell_type": "code",
   "execution_count": 30,
   "metadata": {},
   "outputs": [],
   "source": [
    "ALL_POINTS = 500\n",
    "BEST_POINTS = 200\n",
    "BUDGET = 10e9\n",
    "ONE_BARREL = 450\n",
    "BARREL_PRICE = ONE_BARREL*1000\n"
   ]
  },
  {
   "cell_type": "code",
   "execution_count": 31,
   "metadata": {},
   "outputs": [
    {
     "name": "stdout",
     "output_type": "stream",
     "text": [
      "Объем нефти для безубыточности составляет - 111.11 тыс. баррелей\n"
     ]
    }
   ],
   "source": [
    "cvp = round(BUDGET  / (BARREL_PRICE * BEST_POINTS), 2)\n",
    "print('Объем нефти для безубыточности составляет -',cvp, 'тыс. баррелей')"
   ]
  },
  {
   "cell_type": "markdown",
   "metadata": {},
   "source": [
    "Таким образом, объем нефти для безубыточности превышает *средний* запас нефти по всем точкам в исследуемых регионах. <br>"
   ]
  },
  {
   "cell_type": "markdown",
   "metadata": {},
   "source": [
    "<div class=\"alert alert-success\">\n",
    "<font size=\"4\"><b>✔️ Комментарий ревьюера</b></font>\n",
    "    <br /> \n",
    "    <font size=\"3\", color = \"black\">\n",
    "<br />\n",
    "Расчёт верный"
   ]
  },
  {
   "cell_type": "markdown",
   "metadata": {},
   "source": [
    "Для расчета прибыли будем использовать функцию, которая сортирует полученные данные по предсказанному продукту, сортирует и принимает для расчета первые BEST_POINTS = 200 скважин. <br>\n",
    "После чего, от общей стоимости добытой нефти в данных скважинах отнимает затраты на разработку скважин."
   ]
  },
  {
   "cell_type": "code",
   "execution_count": 32,
   "metadata": {},
   "outputs": [],
   "source": [
    "predictions_sorted = predicted_reg_00.sort_values(ascending=False).reset_index(drop = True)"
   ]
  },
  {
   "cell_type": "code",
   "execution_count": 33,
   "metadata": {},
   "outputs": [
    {
     "name": "stdout",
     "output_type": "stream",
     "text": [
      "0        180.434436\n",
      "1        176.237396\n",
      "2        174.121996\n",
      "3        173.447665\n",
      "4        172.814088\n",
      "            ...    \n",
      "24995     13.653175\n",
      "24996     12.346765\n",
      "24997     11.981888\n",
      "24998     11.838866\n",
      "24999     11.043417\n",
      "Length: 25000, dtype: float64\n"
     ]
    }
   ],
   "source": [
    "print(predictions_sorted)"
   ]
  },
  {
   "cell_type": "code",
   "execution_count": 34,
   "metadata": {},
   "outputs": [],
   "source": [
    "def profit(target, predictions, count):\n",
    "    predictions.reset_index(drop = True, inplace = True)\n",
    "    target.reset_index(drop = True, inplace = True)\n",
    "    predictions_sorted = predictions.sort_values(ascending=False)\n",
    "    selected = target[predictions_sorted.index][:count]  \n",
    "\n",
    "\n",
    "    # КОД РЕВЬЮЕРА\n",
    "    if target[predictions_sorted.index].shape[0] != predictions_sorted.shape[0]:\n",
    "        print(\"Shape mismatch!\", target[predictions_sorted.index].shape)\n",
    "\n",
    "\n",
    "    return (BARREL_PRICE*selected.sum()) - BUDGET"
   ]
  },
  {
   "cell_type": "markdown",
   "metadata": {},
   "source": [
    "<div class=\"alert alert-success\">\n",
    "<font size=\"4\"><b>✔️ Комментарий ревьюера V4</b></font>\n",
    "    <br /> \n",
    "    <font size=\"3\", color = \"black\">\n",
    "<br />    \n",
    "Ура, баг устранён!<br>\n",
    "\n",
    "В образовательных целях расскажу тебе какие ещё были варианты решения проблемы:\n",
    "\n",
    "1. На самом деле, если внимательно посмотреть на нашу задачу, то становится понятно, что переменная target_subsample в функции bootstrap нам не нужна. Фактически она используется только для того, чтобы по её индексам взять сэмпл предсказаний. Но мы можем получить сэмпл предсказаний напрямую:\n",
    "\n",
    "`pred_subsample = predictions.sample(n=500, replace=True, random_state=state)`\n",
    "\n",
    "а в функцию расчёта прибыли передать pred_subsample и target (не сэмпл таргетов, а исходный, полный валидационный таргет, 25000 уникальных элементов с неповторяющимися индексами), и тогда получилось бы, что мы сэмплируем предсказания, сортируем их, выбираем 200 лучших, и только после этого по их индексам берём таргеты. Но поскольку таргеты бы были исходные, с уникальными индексами, то запросив один и тот же индекс 2 раза, мы бы в ответ получили 2 одинаковых элемента, а не 4, ошибки бы не было.\n",
    "\n",
    "2. Можно было бы хранить предсказания и таргеты в одном датафрейме и оперировать бы с ним, а не отдельными его колонками. Тогда вообще не надо было бы делать операцию взятия по индексам: применил .sample() ко всему датафрейму, отсортировал по одной колонке, просуммировал первые 200 значений другой. Всё, элементы одной строки датафрейма между собой жёстко связаны, никакого расхождения не может быть, всё корректно.\n",
    "\n",
    "Сброс индексов - тоже рабочее решение. Другие решил показать потому что бывает на проблему полезно посмотреть с разных сторон, увидеть разные подходы к решению."
   ]
  },
  {
   "cell_type": "markdown",
   "metadata": {},
   "source": [
    "<div class=\"alert alert-info\">\n",
    "<font size=\"4\">🍕<b> Комментарий ревьюера V3</b></font>\n",
    "    <br /> \n",
    "    <font size=\"3\", color = \"black\">\n",
    "<br />\n",
    "Давай попробуем разобраться на всё том же микроскопическом искусственном примере:"
   ]
  },
  {
   "cell_type": "code",
   "execution_count": 35,
   "metadata": {},
   "outputs": [
    {
     "data": {
      "text/plain": [
       "3    3\n",
       "3    3\n",
       "3    3\n",
       "3    3\n",
       "3    3\n",
       "3    3\n",
       "3    3\n",
       "3    3\n",
       "3    3\n",
       "2    2\n",
       "2    2\n",
       "2    2\n",
       "2    2\n",
       "dtype: int64"
      ]
     },
     "metadata": {},
     "output_type": "display_data"
    }
   ],
   "source": [
    "# КОД РЕВЬЮЕРА\n",
    "# предположим, у нас есть небольшой сэмпл из 5 предсказаний и 5 соответствующих таргетов\n",
    "_target = pd.Series([2, 2, 3, 3, 3], index=[2, 2, 3, 3, 3])\n",
    "_preds = pd.Series([2, 2, 3, 3, 3], index=[2, 2, 3, 3, 3]).sort_values(ascending=False)\n",
    "\n",
    "\n",
    "# берём таргеты по индексам предсказаний:\n",
    "\n",
    "display(_target.loc[_preds.index])"
   ]
  },
  {
   "cell_type": "markdown",
   "metadata": {},
   "source": [
    "<div class=\"alert alert-info\">\n",
    "<font size=\"4\"></font>\n",
    "    <font size=\"3\", color = \"black\">\n",
    "А теперь, как ты пытался, сбросим индексы предсказаний:"
   ]
  },
  {
   "cell_type": "code",
   "execution_count": 36,
   "metadata": {},
   "outputs": [
    {
     "data": {
      "text/plain": [
       "Int64Index([2, 2, 3, 3, 3], dtype='int64')"
      ]
     },
     "metadata": {},
     "output_type": "display_data"
    },
    {
     "data": {
      "text/plain": [
       "RangeIndex(start=0, stop=5, step=1)"
      ]
     },
     "metadata": {},
     "output_type": "display_data"
    }
   ],
   "source": [
    "# КОД РЕВЬЮЕРА\n",
    "# предположим, у нас есть небольшой сэмпл из 5 предсказаний и 5 соответствующих таргетов\n",
    "_target = pd.Series([2, 2, 3, 3, 3], index=[2, 2, 3, 3, 3])\n",
    "_preds = pd.Series([2, 2, 3, 3, 3], index=[2, 2, 3, 3, 3]).sort_values(ascending=False).reset_index(drop = True)\n",
    "\n",
    "\n",
    "# какие получились индексы:\n",
    "\n",
    "display(_target.index)\n",
    "display(_preds.index)"
   ]
  },
  {
   "cell_type": "markdown",
   "metadata": {},
   "source": [
    "<div class=\"alert alert-info\">\n",
    "<font size=\"4\"></font>\n",
    "    <font size=\"3\", color = \"black\">\n",
    "Там, где ты сбросил - от 0 до 4, логично. А у таргетов остались только двойки и тройки. Как ты можешь из таргетов взять элемент с индексом 0, если его там нет? А что нужно сделать, чтобы был? По-моему, ответ на поверхности: сбросить индексы и у таргетов тоже.\n",
    "\n",
    "<b>ВАЖНО:</b> у тебя предсказания и таргеты с одинаковыми индексами должны соответствовать друг другу, а если ты сбросишь у предсказаний после сортировки, то соответствия уже не будет. Поэтому надо сбрасывать до сортировки."
   ]
  },
  {
   "cell_type": "markdown",
   "metadata": {},
   "source": [
    "<div class=\"alert alert-danger\">\n",
    "<font size=\"4\"><b>❌ Комментарий ревьюера V2</b></font>\n",
    "    <br /> \n",
    "    <font size=\"3\", color = \"black\">\n",
    "<br />\n",
    "У тебя в функции есть один ну очень неочевидный баг. Настолько неочевидный, что без бутстрапа функция бы была абсолютно корректной, а вот с ним есть нюансы. Я добавил тебе отладочную печать, которая срабатывает, когда у тебя для 500 предсказаний почему-то берётся в расчёт больше, чем 500 таргетов. Явно нежелательное поведение, но печать срабатывает регулярно (смотри ниже). Сейчас покажу из-за чего на небольшом синтетическом примере:"
   ]
  },
  {
   "cell_type": "markdown",
   "metadata": {},
   "source": [
    "<div class=\"alert alert-warning\">\n",
    "<font size=\"4\"><b>Комментарий студента V2</b></font>\n",
    "    <br /> \n",
    "    <font size=\"3\", color = \"black\">\n",
    "<br />\n",
    "Не могу понять... по идее, достаточно вписать <br> \n",
    "        predictions_sorted = predictions.sort_values(ascending=False).reset_index(drop = True)<br> \n",
    "Но при такой постановке код ругается так: <br>\n",
    "        KeyError: \"Passing list-likes to .loc or [] with any missing labels is no longer supported. The following labels were missing: Int64Index([    0,     1,     2,     3,     4,\\n            ...\\n            24993, 24995, 24996, 24997, 24998],\\n           dtype='int64', length=18829). See https://pandas.pydata.org/pandas-docs/stable/user_guide/indexing.html#deprecate-loc-reindex-listlike\" <br>\n",
    "        \n",
    "При этом, во многих источниках написано что reindex и reset_index в целом служат разным целям. Что я делаю не так?"
   ]
  },
  {
   "cell_type": "code",
   "execution_count": 37,
   "metadata": {},
   "outputs": [
    {
     "data": {
      "text/plain": [
       "3    3\n",
       "3    3\n",
       "3    3\n",
       "3    3\n",
       "3    3\n",
       "3    3\n",
       "3    3\n",
       "3    3\n",
       "3    3\n",
       "2    2\n",
       "2    2\n",
       "2    2\n",
       "2    2\n",
       "dtype: int64"
      ]
     },
     "metadata": {},
     "output_type": "display_data"
    }
   ],
   "source": [
    "# КОД РЕВЬЮЕРА\n",
    "# предположим, у нас есть небольшой сэмпл из 5 предсказаний и 5 соответствующих таргетов\n",
    "_target = pd.Series([2, 2, 3, 3, 3], index=[2, 2, 3, 3, 3])\n",
    "_preds = pd.Series([2, 2, 3, 3, 3], index=[2, 2, 3, 3, 3]).sort_values(ascending=False)\n",
    "\n",
    "\n",
    "# берём таргеты по индексам предсказаний:\n",
    "\n",
    "display(_target.loc[_preds.index])"
   ]
  },
  {
   "cell_type": "markdown",
   "metadata": {},
   "source": [
    "<div class=\"alert alert-danger\">\n",
    "<font size=\"4\"></font>\n",
    "    <font size=\"3\", color = \"black\">\n",
    "Как так? Почему предсказаний 5, а таргетов аж 13? На самом деле, всё очень просто. На примере элементов с индексом и значением 2. Когда мы попросили у пандаса взять таргеты по индексам предсказаний, и у нас и там и там 2 одинаковых элемента, он отнюдь должен вернуть не 2. Он для каждого запрошенного индекса предсказаний выдаёт все таргеты с таким индексом. Таким образом, мы запросили 2 раза элемента с индексом 2 - оба раза пандас отдал нам 2 таких элемента из таргетов - всего 4 элемента. А если бы у нас было и там, и там по 3 одинаковых элемента, то в итоге было бы 9. Логика, надеюсь, ясна. И вот поэтому почти всегда получается, что когда ты берёшь таргеты по индексам 500 предсказаний, получаешь в итоге более чем 500 таргетов. Благодаря бутстрапу в выборках есть идентичные элементы, с одинаковыми индексами, и они каждый раз вот таким образом \"множатся\" при вычислении прибыли.\n",
    "\n",
    "Теперь поговорим о том, как же с этим быть. Ещё один пример:"
   ]
  },
  {
   "cell_type": "code",
   "execution_count": 38,
   "metadata": {},
   "outputs": [
    {
     "data": {
      "text/plain": [
       "2    3\n",
       "3    3\n",
       "4    3\n",
       "0    2\n",
       "1    2\n",
       "dtype: int64"
      ]
     },
     "metadata": {},
     "output_type": "display_data"
    }
   ],
   "source": [
    "# КОД РЕВЬЮЕРА\n",
    "# предположим, у нас есть небольшой сэмпл из 5 предсказаний и 5 соответствующих таргетов\n",
    "_target = pd.Series([2, 2, 3, 3, 3])\n",
    "_preds = pd.Series([2, 2, 3, 3, 3]).sort_values(ascending=False)\n",
    "\n",
    "\n",
    "# берём таргеты по индексам предсказаний:\n",
    "\n",
    "display(_target.loc[_preds.index][:5])"
   ]
  },
  {
   "cell_type": "markdown",
   "metadata": {},
   "source": [
    "<div class=\"alert alert-danger\">\n",
    "<font size=\"4\"></font>\n",
    "    <font size=\"3\", color = \"black\">\n",
    "Тут всё корректно, а разница с предыдущим примеров только в том, что индексы одинаковых элементов не одинаковые. То есть для корректности тебе достаточно сделать так, чтобы элементы таргетов и предсказаний остались бы теми же, а индексы бы стали новыми, неповторяющимися. Это можно сделать с помощью метода .reset_index(), указав туда параметр drop=True"
   ]
  },
  {
   "cell_type": "code",
   "execution_count": 39,
   "metadata": {},
   "outputs": [
    {
     "name": "stdout",
     "output_type": "stream",
     "text": [
      "Прибыль от 200 лучших точек региона 0:  3215.35 млн. рублей\n",
      "Прибыль от 200 лучших точек региона 1:  2415.09 млн. рублей\n",
      "Прибыль от 200 лучших точек региона 2:  2207.84 млн. рублей\n"
     ]
    }
   ],
   "source": [
    "print (f'Прибыль от {BEST_POINTS} лучших точек региона 0:',\n",
    "       \"{:8.2f}\".format(profit(target_valid_reg_00,predicted_reg_00,BEST_POINTS)/10e5), 'млн. рублей')\n",
    "print (f'Прибыль от {BEST_POINTS} лучших точек региона 1:', \n",
    "       \"{:8.2f}\".format(profit(target_valid_reg_01,predicted_reg_01,BEST_POINTS)/10e5), 'млн. рублей')\n",
    "print (f'Прибыль от {BEST_POINTS} лучших точек региона 2:', \n",
    "       \"{:8.2f}\".format(profit(target_valid_reg_02,predicted_reg_02,BEST_POINTS)/10e5), 'млн. рублей')\n"
   ]
  },
  {
   "cell_type": "markdown",
   "metadata": {},
   "source": [
    "Регион №0 (geo_data_0) на текущий момент показывает наилучшие результаты, но при этом прибыльная добыча возможна во всех регионах."
   ]
  },
  {
   "cell_type": "markdown",
   "metadata": {},
   "source": [
    "<div class=\"alert alert-success\">\n",
    "<font size=\"4\"><b>✔️ Комментарий ревьюера V2</b></font>\n",
    "    <br /> \n",
    "    <font size=\"3\", color = \"black\">\n",
    "<br />\n",
    "Вывод, что каждый регион имеет потенциальную прибыль, на самом деле, для нас очень важен.<br>\n",
    "\n",
    "Дело в том, что на текущем этапе, когда мы ещё не знаем что получится с помощью бутстрапа, мы уже можем оценить насколько хорошая картина нас может ждать. Ранее мы сравнили средние запасы регионов с точкой безубыточности, и увидели, что каждый регион в среднем убыточен. Если бы мы и здесь увидели убытки, то дальнейшая работа была бы бессмысленной. Зачем нам что-то считать, если у нас даже в лучшем случае убыток? А раз у нас возможна прибыль, то смысл есть, мы делаем качественную осмысленную работу, наша модель для бизнеса может быть полезна.<br>\n",
    "\n",
    "В реальных проектах важно как можно раньше понять движемся ли мы в верном направлении или надо что-то менять. Потому что тратить время и деньги впустую - не лучшая затея."
   ]
  },
  {
   "cell_type": "markdown",
   "metadata": {},
   "source": [
    "## Расчёт прибыли и рисков "
   ]
  },
  {
   "cell_type": "code",
   "execution_count": null,
   "metadata": {},
   "outputs": [],
   "source": []
  },
  {
   "cell_type": "code",
   "execution_count": 40,
   "metadata": {},
   "outputs": [],
   "source": [
    "def bootstrap(target, predictions):\n",
    "    state = np.random.RandomState(110923)\n",
    "    \n",
    "    values = []\n",
    "    for i in range(1000):\n",
    "        target_subsample = target.sample(500, replace=True, random_state = state)\n",
    "        pred_subsample = predictions[target_subsample.index]\n",
    "        values.append(profit(target_subsample, pred_subsample,200))\n",
    "\n",
    "    values = pd.Series(values)\n",
    "    lower = values.quantile(0.025)\n",
    "    higher = values.quantile(0.975)\n",
    "\n",
    "    mean = values.mean()\n",
    "    risk = (values < 0).mean()*100\n",
    "    \n",
    "\n",
    "    print('95% доверительный интервал:', \n",
    "          \"{:8.2f}\".format(lower/10e5), 'млн. руб. -'\n",
    "          \"{:8.2f}\".format(higher/10e5), 'млн. руб.')\n",
    "    print(\"Средняя прибыль:\", \n",
    "          \"{:8.2f}\".format(mean/10e5), 'млн. руб.')\n",
    "    print(f'Риск убытка: {risk}%')\n",
    "    \n",
    "    values.hist(figsize=(20, 5), bins=30)\n",
    "    plt.axvline(lower, color='red')\n",
    "    plt.axvline(higher, color='green')\n",
    "    plt.legend(['Нижняя граница 95%-го доверительного интервала', \n",
    "                'Верхняя граница 95%-го доверительного интервала', \n",
    "                'Распределение прибыли'])\n",
    "    plt.xlabel('Прибыль, руб.')\n",
    "    plt.ylabel(f'Количество скважин из {BEST_POINTS}')\n",
    "    plt.title(f'Распределение прибыли')\n",
    "    plt.show()\n",
    "    "
   ]
  },
  {
   "cell_type": "code",
   "execution_count": 41,
   "metadata": {},
   "outputs": [
    {
     "name": "stdout",
     "output_type": "stream",
     "text": [
      "95% доверительный интервал:   -62.76 млн. руб. -  909.09 млн. руб.\n",
      "Средняя прибыль:   437.43 млн. руб.\n",
      "Риск убытка: 4.5%\n"
     ]
    },
    {
     "data": {
      "image/png": "[encoded data removed]",
      "text/plain": [
       "<Figure size 1440x360 with 1 Axes>"
      ]
     },
     "metadata": {
      "needs_background": "light"
     },
     "output_type": "display_data"
    }
   ],
   "source": [
    "bootstrap(target_valid_reg_00, predicted_reg_00)"
   ]
  },
  {
   "cell_type": "code",
   "execution_count": 42,
   "metadata": {},
   "outputs": [
    {
     "name": "stdout",
     "output_type": "stream",
     "text": [
      "95% доверительный интервал:    45.28 млн. руб. -  840.86 млн. руб.\n",
      "Средняя прибыль:   438.83 млн. руб.\n",
      "Риск убытка: 1.2%\n"
     ]
    },
    {
     "data": {
      "image/png": "[encoded data removed]",
      "text/plain": [
       "<Figure size 1440x360 with 1 Axes>"
      ]
     },
     "metadata": {
      "needs_background": "light"
     },
     "output_type": "display_data"
    }
   ],
   "source": [
    "bootstrap(target_valid_reg_01, predicted_reg_01)"
   ]
  },
  {
   "cell_type": "code",
   "execution_count": 43,
   "metadata": {},
   "outputs": [
    {
     "name": "stdout",
     "output_type": "stream",
     "text": [
      "95% доверительный интервал:  -148.85 млн. руб. -  913.36 млн. руб.\n",
      "Средняя прибыль:   397.29 млн. руб.\n",
      "Риск убытка: 7.5%\n"
     ]
    },
    {
     "data": {
      "image/png": "[encoded data removed]",
      "text/plain": [
       "<Figure size 1440x360 with 1 Axes>"
      ]
     },
     "metadata": {
      "needs_background": "light"
     },
     "output_type": "display_data"
    }
   ],
   "source": [
    "bootstrap(target_valid_reg_02, predicted_reg_02)"
   ]
  },
  {
   "cell_type": "markdown",
   "metadata": {},
   "source": [
    "<div class=\"alert alert-info\">\n",
    "<font size=\"4\">🍕<b> Комментарий ревьюера V2</b></font>\n",
    "    <br /> \n",
    "    <font size=\"3\", color = \"black\">\n",
    "<br />\n",
    "Финальные результаты было бы неплохо визуализировать, ведь они - то, ради чего вся работа делалась. Для этого подойдут ящики с усами или гистограммы распределений выборочных прибылей с нанесёнными на них границами найденных дов. интервалов."
   ]
  },
  {
   "cell_type": "markdown",
   "metadata": {},
   "source": [
    "<div class=\"alert alert-warning\">\n",
    "<font size=\"4\"><b>Комментарий студента V2</b></font>\n",
    "    <br /> \n",
    "    <font size=\"3\", color = \"black\">\n",
    "<br />\n",
    "Дополнил. На этот раз - без Плотли... А вот с расчетом прибыли - не получается почему-то сбросить. вопрос задал выше.."
   ]
  },
  {
   "cell_type": "markdown",
   "metadata": {},
   "source": [
    "## Вывод"
   ]
  },
  {
   "cell_type": "markdown",
   "metadata": {},
   "source": [
    "В ходе выполнения работы были выполнены следующие мероприятия:\n",
    "1. Загружены данные для трех регионов исследования\n",
    "2. Изучены данные, был исключен малоинформативный столбец 'id'\n",
    "3. Подготовлены данные (разбиты в соотношении 75:25), обучена модель с выводом среднего запаса предсказанного сырья и RMSE модели.\n",
    "4. Написана функция подсчета прибыли, а также были сохранены константы в переменные\n",
    "5. Были определены 200 скважин с наилучшими результатами, подсчитана максимальная прибыль.\n",
    "6. Использовали Bootstrap с 1000 выборки, для определения возможного распределения прибыли, средней прибылью, а также вероятностью убытка."
   ]
  },
  {
   "cell_type": "markdown",
   "metadata": {},
   "source": [
    "## Вывод по цели исследования"
   ]
  },
  {
   "cell_type": "markdown",
   "metadata": {},
   "source": [
    "Наилучшими показателями обладает регион №1 (geo_data_1) со следующими параметрами:\n",
    "1. 95% доверительный интервал:    45.28 млн. руб. -  840.86 млн. руб.\n",
    "2. Средняя прибыль:   438.83 млн. руб.\n",
    "3. Риск убытка: 1.2%\n",
    "\n",
    "Из всех рассмотренных регионов, только этот регион имеет риски убытка ниже заданных.\n",
    "\n",
    "Вместе с тем, следует отметить следующие факторы:\n",
    "1. Подозрительное распределение данных (консолидация вокруг определенных значений, без разбросов)\n",
    "2. 100% корреляция между 'product' и 'f2'.\n",
    "3. При всех пунктах, он имеет наименьший средний предсказанный запас."
   ]
  },
  {
   "cell_type": "markdown",
   "metadata": {},
   "source": [
    "В соответствии с вышесказанным, при условиях повторной проверки корректности данных по региону №1, он является единственным, подходящим под условия задачи."
   ]
  },
  {
   "cell_type": "markdown",
   "metadata": {},
   "source": [
    "<div class=\"alert alert-danger\">\n",
    "<font size=\"4\"><b>❌ Комментарий ревьюера</b></font>\n",
    "    <br /> \n",
    "    <font size=\"3\", color = \"black\">\n",
    "<br /> \n",
    "Обычно, если от студента приходит недоделанная работа, то есть вопросы на тему его непонимания происходящего, а у тебя нет. Так что я не знаю как реагировать. Но проект, конечно, надо доделывать, как иначе?"
   ]
  },
  {
   "cell_type": "markdown",
   "metadata": {},
   "source": [
    "<div class=\"alert alert-block alert-warning\">\n",
    "<b>Комментарий студента:</b> Реакция 'Лавров.jpg' тут была бы уместна! Я выше объяснил происходящее.\n",
    "</div>"
   ]
  },
  {
   "cell_type": "markdown",
   "metadata": {},
   "source": [
    "## Чек-лист готовности проекта"
   ]
  },
  {
   "cell_type": "markdown",
   "metadata": {},
   "source": [
    "Поставьте 'x' в выполненных пунктах. Далее нажмите Shift+Enter."
   ]
  },
  {
   "cell_type": "markdown",
   "metadata": {},
   "source": [
    "- [x]  Jupyter Notebook открыт\n",
    "- [X]  Весь код выполняется без ошибок\n",
    "- [X]  Ячейки с кодом расположены в порядке исполнения\n",
    "- [X]  Выполнен шаг 1: данные подготовлены\n",
    "- [X]  Выполнен шаг 2: модели обучены и проверены\n",
    "    - [X]  Данные корректно разбиты на обучающую и валидационную выборки\n",
    "    - [X]  Модели обучены, предсказания сделаны\n",
    "    - [X]  Предсказания и правильные ответы на валидационной выборке сохранены\n",
    "    - [X]  На экране напечатаны результаты\n",
    "    - [X]  Сделаны выводы\n",
    "- [X]  Выполнен шаг 3: проведена подготовка к расчёту прибыли\n",
    "    - [X]  Для всех ключевых значений созданы константы Python\n",
    "    - [X]  Посчитано минимальное среднее количество продукта в месторождениях региона, достаточное для разработки\n",
    "    - [X]  По предыдущему пункту сделаны выводы\n",
    "    - [X]  Написана функция расчёта прибыли\n",
    "- [X]  Выполнен шаг 4: посчитаны риски и прибыль\n",
    "    - [X]  Проведена процедура *Bootstrap*\n",
    "    - [X]  Все параметры бутстрепа соответствуют условию\n",
    "    - [X]  Найдены все нужные величины\n",
    "    - [X]  Предложен регион для разработки месторождения\n",
    "    - [X]  Выбор региона обоснован"
   ]
  },
  {
   "cell_type": "code",
   "execution_count": null,
   "metadata": {},
   "outputs": [],
   "source": []
  }
 ],
 "metadata": {
  "ExecuteTimeLog": [
   {
    "duration": 99,
    "start_time": "2023-09-11T19:36:11.761Z"
   },
   {
    "duration": 1463,
    "start_time": "2023-09-11T19:37:17.364Z"
   },
   {
    "duration": 780,
    "start_time": "2023-09-11T19:37:18.829Z"
   },
   {
    "duration": 38,
    "start_time": "2023-09-11T19:38:03.219Z"
   },
   {
    "duration": 14,
    "start_time": "2023-09-11T19:38:37.001Z"
   },
   {
    "duration": 13,
    "start_time": "2023-09-11T19:38:45.754Z"
   },
   {
    "duration": 13,
    "start_time": "2023-09-11T19:38:48.334Z"
   },
   {
    "duration": 34,
    "start_time": "2023-09-11T19:39:53.621Z"
   },
   {
    "duration": 31,
    "start_time": "2023-09-11T19:39:54.004Z"
   },
   {
    "duration": 31,
    "start_time": "2023-09-11T19:39:54.536Z"
   },
   {
    "duration": 42,
    "start_time": "2023-09-11T19:40:18.036Z"
   },
   {
    "duration": 33,
    "start_time": "2023-09-11T19:40:18.404Z"
   },
   {
    "duration": 38,
    "start_time": "2023-09-11T19:40:18.649Z"
   },
   {
    "duration": 7,
    "start_time": "2023-09-11T19:40:46.598Z"
   },
   {
    "duration": 8,
    "start_time": "2023-09-11T19:43:21.050Z"
   },
   {
    "duration": 12,
    "start_time": "2023-09-11T19:57:34.667Z"
   },
   {
    "duration": 7,
    "start_time": "2023-09-11T19:57:40.927Z"
   },
   {
    "duration": 7,
    "start_time": "2023-09-11T19:57:57.467Z"
   },
   {
    "duration": 103,
    "start_time": "2023-09-11T19:58:43.602Z"
   },
   {
    "duration": 10,
    "start_time": "2023-09-11T20:00:58.430Z"
   },
   {
    "duration": 4,
    "start_time": "2023-09-11T20:01:14.655Z"
   },
   {
    "duration": 12,
    "start_time": "2023-09-11T20:02:47.585Z"
   },
   {
    "duration": 12,
    "start_time": "2023-09-11T20:06:59.452Z"
   },
   {
    "duration": 84,
    "start_time": "2023-09-11T20:07:17.895Z"
   },
   {
    "duration": 1418,
    "start_time": "2023-09-11T20:07:21.632Z"
   },
   {
    "duration": 373,
    "start_time": "2023-09-11T20:07:23.052Z"
   },
   {
    "duration": 25,
    "start_time": "2023-09-11T20:07:23.430Z"
   },
   {
    "duration": 46,
    "start_time": "2023-09-11T20:07:23.456Z"
   },
   {
    "duration": 20,
    "start_time": "2023-09-11T20:07:23.504Z"
   },
   {
    "duration": 49,
    "start_time": "2023-09-11T20:07:23.525Z"
   },
   {
    "duration": 32,
    "start_time": "2023-09-11T20:07:23.575Z"
   },
   {
    "duration": 42,
    "start_time": "2023-09-11T20:07:23.608Z"
   },
   {
    "duration": 39,
    "start_time": "2023-09-11T20:07:23.652Z"
   },
   {
    "duration": 39,
    "start_time": "2023-09-11T20:07:23.693Z"
   },
   {
    "duration": 43,
    "start_time": "2023-09-11T20:07:23.750Z"
   },
   {
    "duration": 9,
    "start_time": "2023-09-11T20:07:23.795Z"
   },
   {
    "duration": 48,
    "start_time": "2023-09-11T20:07:23.805Z"
   },
   {
    "duration": 180,
    "start_time": "2023-09-11T20:07:23.854Z"
   },
   {
    "duration": 118,
    "start_time": "2023-09-11T20:07:24.035Z"
   },
   {
    "duration": 12,
    "start_time": "2023-09-11T20:07:49.711Z"
   },
   {
    "duration": 11,
    "start_time": "2023-09-11T20:08:31.872Z"
   },
   {
    "duration": 11,
    "start_time": "2023-09-11T20:09:13.179Z"
   },
   {
    "duration": 10,
    "start_time": "2023-09-11T20:09:44.348Z"
   },
   {
    "duration": 11,
    "start_time": "2023-09-11T20:10:16.416Z"
   },
   {
    "duration": 13,
    "start_time": "2023-09-11T20:10:52.462Z"
   },
   {
    "duration": 11,
    "start_time": "2023-09-11T20:11:06.057Z"
   },
   {
    "duration": 88,
    "start_time": "2023-09-11T20:11:10.232Z"
   },
   {
    "duration": 76,
    "start_time": "2023-09-11T20:11:15.321Z"
   },
   {
    "duration": 82,
    "start_time": "2023-09-11T20:11:50.496Z"
   },
   {
    "duration": 76,
    "start_time": "2023-09-11T20:12:06.017Z"
   },
   {
    "duration": 162,
    "start_time": "2023-09-11T20:12:14.290Z"
   },
   {
    "duration": 76,
    "start_time": "2023-09-11T20:12:24.983Z"
   },
   {
    "duration": 3,
    "start_time": "2023-09-11T20:12:58.284Z"
   },
   {
    "duration": 355,
    "start_time": "2023-09-11T20:13:04.580Z"
   },
   {
    "duration": 77,
    "start_time": "2023-09-11T20:13:57.595Z"
   },
   {
    "duration": 615,
    "start_time": "2023-09-11T20:15:00.060Z"
   },
   {
    "duration": 416,
    "start_time": "2023-09-11T20:15:16.348Z"
   },
   {
    "duration": 366,
    "start_time": "2023-09-11T20:15:27.860Z"
   },
   {
    "duration": 449,
    "start_time": "2023-09-11T20:17:10.652Z"
   },
   {
    "duration": 361,
    "start_time": "2023-09-11T20:18:04.858Z"
   },
   {
    "duration": 338,
    "start_time": "2023-09-11T20:18:14.362Z"
   },
   {
    "duration": 332,
    "start_time": "2023-09-11T20:18:22.557Z"
   },
   {
    "duration": 371,
    "start_time": "2023-09-11T20:18:28.728Z"
   },
   {
    "duration": 383,
    "start_time": "2023-09-11T20:19:00.183Z"
   },
   {
    "duration": 1058,
    "start_time": "2023-09-11T20:23:30.720Z"
   },
   {
    "duration": 1024,
    "start_time": "2023-09-11T20:24:38.446Z"
   },
   {
    "duration": 87,
    "start_time": "2023-09-11T20:25:05.664Z"
   },
   {
    "duration": 999,
    "start_time": "2023-09-11T20:25:12.980Z"
   },
   {
    "duration": 1008,
    "start_time": "2023-09-11T20:25:23.938Z"
   },
   {
    "duration": 1036,
    "start_time": "2023-09-11T20:26:30.641Z"
   },
   {
    "duration": 1020,
    "start_time": "2023-09-11T20:27:03.264Z"
   },
   {
    "duration": 1066,
    "start_time": "2023-09-11T20:27:20.319Z"
   },
   {
    "duration": 1046,
    "start_time": "2023-09-11T20:28:40.142Z"
   },
   {
    "duration": 1036,
    "start_time": "2023-09-11T20:29:14.931Z"
   },
   {
    "duration": 1058,
    "start_time": "2023-09-11T20:30:01.818Z"
   },
   {
    "duration": 1043,
    "start_time": "2023-09-11T20:30:43.433Z"
   },
   {
    "duration": 139,
    "start_time": "2023-09-11T20:32:18.353Z"
   },
   {
    "duration": 1036,
    "start_time": "2023-09-11T20:32:23.751Z"
   },
   {
    "duration": 90,
    "start_time": "2023-09-11T20:32:31.741Z"
   },
   {
    "duration": 1092,
    "start_time": "2023-09-11T20:33:05.221Z"
   },
   {
    "duration": 86,
    "start_time": "2023-09-11T20:33:25.543Z"
   },
   {
    "duration": 1072,
    "start_time": "2023-09-11T20:33:35.135Z"
   },
   {
    "duration": 1052,
    "start_time": "2023-09-11T20:34:07.522Z"
   },
   {
    "duration": 1069,
    "start_time": "2023-09-11T20:36:17.397Z"
   },
   {
    "duration": 1310,
    "start_time": "2023-09-11T20:36:52.870Z"
   },
   {
    "duration": 1312,
    "start_time": "2023-09-11T20:38:11.988Z"
   },
   {
    "duration": 370,
    "start_time": "2023-09-11T20:38:13.302Z"
   },
   {
    "duration": 16,
    "start_time": "2023-09-11T20:38:13.675Z"
   },
   {
    "duration": 19,
    "start_time": "2023-09-11T20:38:13.692Z"
   },
   {
    "duration": 12,
    "start_time": "2023-09-11T20:38:13.712Z"
   },
   {
    "duration": 55,
    "start_time": "2023-09-11T20:38:13.726Z"
   },
   {
    "duration": 31,
    "start_time": "2023-09-11T20:38:13.783Z"
   },
   {
    "duration": 44,
    "start_time": "2023-09-11T20:38:13.816Z"
   },
   {
    "duration": 37,
    "start_time": "2023-09-11T20:38:13.862Z"
   },
   {
    "duration": 51,
    "start_time": "2023-09-11T20:38:13.901Z"
   },
   {
    "duration": 39,
    "start_time": "2023-09-11T20:38:13.953Z"
   },
   {
    "duration": 8,
    "start_time": "2023-09-11T20:38:13.993Z"
   },
   {
    "duration": 21,
    "start_time": "2023-09-11T20:38:14.002Z"
   },
   {
    "duration": 1292,
    "start_time": "2023-09-11T20:38:14.024Z"
   },
   {
    "duration": 236,
    "start_time": "2023-09-11T20:38:15.317Z"
   },
   {
    "duration": 0,
    "start_time": "2023-09-11T20:38:15.555Z"
   },
   {
    "duration": 0,
    "start_time": "2023-09-11T20:38:15.556Z"
   },
   {
    "duration": 1104,
    "start_time": "2023-09-11T20:38:46.525Z"
   },
   {
    "duration": 1082,
    "start_time": "2023-09-11T20:38:48.696Z"
   },
   {
    "duration": 1653,
    "start_time": "2023-09-11T20:38:49.780Z"
   },
   {
    "duration": 1054,
    "start_time": "2023-09-11T20:41:56.634Z"
   },
   {
    "duration": 1118,
    "start_time": "2023-09-11T20:42:18.188Z"
   },
   {
    "duration": 1086,
    "start_time": "2023-09-11T20:42:34.748Z"
   },
   {
    "duration": 1072,
    "start_time": "2023-09-11T20:42:48.949Z"
   },
   {
    "duration": 78,
    "start_time": "2023-09-11T20:44:47.882Z"
   },
   {
    "duration": 1055,
    "start_time": "2023-09-11T20:44:52.437Z"
   },
   {
    "duration": 1121,
    "start_time": "2023-09-11T20:45:10.554Z"
   },
   {
    "duration": 1050,
    "start_time": "2023-09-11T20:45:20.382Z"
   },
   {
    "duration": 1180,
    "start_time": "2023-09-11T20:45:31.704Z"
   },
   {
    "duration": 4,
    "start_time": "2023-09-11T21:27:32.274Z"
   },
   {
    "duration": 4,
    "start_time": "2023-09-11T21:28:24.094Z"
   },
   {
    "duration": 4,
    "start_time": "2023-09-11T21:28:24.682Z"
   },
   {
    "duration": 10,
    "start_time": "2023-09-11T21:28:34.259Z"
   },
   {
    "duration": 8,
    "start_time": "2023-09-11T21:28:59.913Z"
   },
   {
    "duration": 18,
    "start_time": "2023-09-11T21:29:09.600Z"
   },
   {
    "duration": 3,
    "start_time": "2023-09-11T21:29:30.023Z"
   },
   {
    "duration": 4,
    "start_time": "2023-09-11T21:29:30.390Z"
   },
   {
    "duration": 18,
    "start_time": "2023-09-11T21:29:30.796Z"
   },
   {
    "duration": 18,
    "start_time": "2023-09-11T21:29:32.716Z"
   },
   {
    "duration": 4,
    "start_time": "2023-09-11T21:30:26.122Z"
   },
   {
    "duration": 4,
    "start_time": "2023-09-11T21:30:26.818Z"
   },
   {
    "duration": 16,
    "start_time": "2023-09-11T21:30:27.424Z"
   },
   {
    "duration": 10,
    "start_time": "2023-09-11T21:33:26.278Z"
   },
   {
    "duration": 11,
    "start_time": "2023-09-11T21:34:07.799Z"
   },
   {
    "duration": 10,
    "start_time": "2023-09-11T21:34:19.342Z"
   },
   {
    "duration": 10,
    "start_time": "2023-09-11T21:34:32.019Z"
   },
   {
    "duration": 11,
    "start_time": "2023-09-11T21:42:48.927Z"
   },
   {
    "duration": 1326,
    "start_time": "2023-09-11T21:42:53.483Z"
   },
   {
    "duration": 378,
    "start_time": "2023-09-11T21:42:54.811Z"
   },
   {
    "duration": 15,
    "start_time": "2023-09-11T21:42:55.191Z"
   },
   {
    "duration": 13,
    "start_time": "2023-09-11T21:42:55.207Z"
   },
   {
    "duration": 29,
    "start_time": "2023-09-11T21:42:55.221Z"
   },
   {
    "duration": 37,
    "start_time": "2023-09-11T21:42:55.252Z"
   },
   {
    "duration": 34,
    "start_time": "2023-09-11T21:42:55.291Z"
   },
   {
    "duration": 44,
    "start_time": "2023-09-11T21:42:55.326Z"
   },
   {
    "duration": 37,
    "start_time": "2023-09-11T21:42:55.371Z"
   },
   {
    "duration": 55,
    "start_time": "2023-09-11T21:42:55.410Z"
   },
   {
    "duration": 39,
    "start_time": "2023-09-11T21:42:55.466Z"
   },
   {
    "duration": 9,
    "start_time": "2023-09-11T21:42:55.506Z"
   },
   {
    "duration": 32,
    "start_time": "2023-09-11T21:42:55.517Z"
   },
   {
    "duration": 3,
    "start_time": "2023-09-11T22:08:00.809Z"
   },
   {
    "duration": 18,
    "start_time": "2023-09-11T22:08:01.120Z"
   },
   {
    "duration": 3,
    "start_time": "2023-09-11T22:08:24.263Z"
   },
   {
    "duration": 20,
    "start_time": "2023-09-11T22:08:25.042Z"
   },
   {
    "duration": 17,
    "start_time": "2023-09-11T22:08:49.388Z"
   },
   {
    "duration": 19,
    "start_time": "2023-09-11T22:09:07.881Z"
   },
   {
    "duration": 77,
    "start_time": "2023-09-11T22:10:37.480Z"
   },
   {
    "duration": 13,
    "start_time": "2023-09-11T22:10:50.098Z"
   },
   {
    "duration": 15,
    "start_time": "2023-09-11T22:11:05.840Z"
   },
   {
    "duration": 13,
    "start_time": "2023-09-11T22:11:09.008Z"
   },
   {
    "duration": 13,
    "start_time": "2023-09-11T22:11:21.377Z"
   },
   {
    "duration": 14,
    "start_time": "2023-09-11T22:11:28.540Z"
   },
   {
    "duration": 13,
    "start_time": "2023-09-11T22:11:41.692Z"
   },
   {
    "duration": 71,
    "start_time": "2023-09-11T22:11:50.978Z"
   },
   {
    "duration": 13,
    "start_time": "2023-09-11T22:12:45.071Z"
   },
   {
    "duration": 13,
    "start_time": "2023-09-11T22:14:27.554Z"
   },
   {
    "duration": 12,
    "start_time": "2023-09-11T22:14:31.357Z"
   },
   {
    "duration": 3,
    "start_time": "2023-09-11T22:14:34.891Z"
   },
   {
    "duration": 17,
    "start_time": "2023-09-11T22:14:35.260Z"
   },
   {
    "duration": 17,
    "start_time": "2023-09-11T22:14:35.704Z"
   },
   {
    "duration": 17,
    "start_time": "2023-09-11T22:14:36.161Z"
   },
   {
    "duration": 14,
    "start_time": "2023-09-11T22:14:38.787Z"
   },
   {
    "duration": 14,
    "start_time": "2023-09-11T22:14:39.308Z"
   },
   {
    "duration": 22,
    "start_time": "2023-09-11T22:17:27.841Z"
   },
   {
    "duration": 3,
    "start_time": "2023-09-11T22:17:38.718Z"
   },
   {
    "duration": 14,
    "start_time": "2023-09-11T22:19:00.080Z"
   },
   {
    "duration": 12,
    "start_time": "2023-09-11T22:19:01.474Z"
   },
   {
    "duration": 13,
    "start_time": "2023-09-11T22:19:10.998Z"
   },
   {
    "duration": 13,
    "start_time": "2023-09-11T22:19:33.712Z"
   },
   {
    "duration": 13,
    "start_time": "2023-09-11T22:19:58.663Z"
   },
   {
    "duration": 12,
    "start_time": "2023-09-11T22:19:58.863Z"
   },
   {
    "duration": 13,
    "start_time": "2023-09-11T22:19:59.192Z"
   },
   {
    "duration": 99,
    "start_time": "2023-09-11T22:23:05.631Z"
   },
   {
    "duration": 91,
    "start_time": "2023-09-11T22:23:13.883Z"
   },
   {
    "duration": 383,
    "start_time": "2023-09-11T22:24:05.612Z"
   },
   {
    "duration": 404,
    "start_time": "2023-09-11T22:24:35.154Z"
   },
   {
    "duration": 543,
    "start_time": "2023-09-11T22:24:56.150Z"
   },
   {
    "duration": 8,
    "start_time": "2023-09-13T22:52:48.774Z"
   },
   {
    "duration": 4,
    "start_time": "2023-09-13T22:54:09.933Z"
   },
   {
    "duration": 4,
    "start_time": "2023-09-13T22:54:45.003Z"
   },
   {
    "duration": 4,
    "start_time": "2023-09-13T22:55:00.380Z"
   },
   {
    "duration": 3,
    "start_time": "2023-09-13T22:55:13.815Z"
   },
   {
    "duration": 2650,
    "start_time": "2023-09-16T04:43:28.553Z"
   },
   {
    "duration": 806,
    "start_time": "2023-09-16T04:44:20.610Z"
   },
   {
    "duration": 18,
    "start_time": "2023-09-16T04:44:21.418Z"
   },
   {
    "duration": 70,
    "start_time": "2023-09-16T04:44:21.438Z"
   },
   {
    "duration": 20,
    "start_time": "2023-09-16T04:44:21.510Z"
   },
   {
    "duration": 53,
    "start_time": "2023-09-16T04:44:21.532Z"
   },
   {
    "duration": 39,
    "start_time": "2023-09-16T04:44:21.810Z"
   },
   {
    "duration": 35,
    "start_time": "2023-09-16T04:44:22.449Z"
   },
   {
    "duration": 45,
    "start_time": "2023-09-16T04:44:23.023Z"
   },
   {
    "duration": 45,
    "start_time": "2023-09-16T04:44:23.417Z"
   },
   {
    "duration": 46,
    "start_time": "2023-09-16T04:44:23.803Z"
   },
   {
    "duration": 10,
    "start_time": "2023-09-16T04:44:24.768Z"
   },
   {
    "duration": 1782,
    "start_time": "2023-09-16T14:53:05.723Z"
   },
   {
    "duration": 1094,
    "start_time": "2023-09-16T14:53:07.508Z"
   },
   {
    "duration": 35,
    "start_time": "2023-09-16T14:53:08.604Z"
   },
   {
    "duration": 15,
    "start_time": "2023-09-16T14:53:08.641Z"
   },
   {
    "duration": 16,
    "start_time": "2023-09-16T14:53:08.658Z"
   },
   {
    "duration": 72,
    "start_time": "2023-09-16T14:53:08.676Z"
   },
   {
    "duration": 39,
    "start_time": "2023-09-16T14:53:08.750Z"
   },
   {
    "duration": 59,
    "start_time": "2023-09-16T14:53:08.791Z"
   },
   {
    "duration": 76,
    "start_time": "2023-09-16T14:53:08.852Z"
   },
   {
    "duration": 47,
    "start_time": "2023-09-16T14:53:08.930Z"
   },
   {
    "duration": 74,
    "start_time": "2023-09-16T14:53:08.978Z"
   },
   {
    "duration": 9,
    "start_time": "2023-09-16T14:53:09.054Z"
   },
   {
    "duration": 31,
    "start_time": "2023-09-16T14:53:09.065Z"
   },
   {
    "duration": 15,
    "start_time": "2023-09-16T15:02:19.327Z"
   },
   {
    "duration": 17,
    "start_time": "2023-09-16T15:02:19.603Z"
   },
   {
    "duration": 15,
    "start_time": "2023-09-16T15:02:19.832Z"
   },
   {
    "duration": 413,
    "start_time": "2023-09-16T15:02:20.062Z"
   },
   {
    "duration": 5,
    "start_time": "2023-09-16T15:13:37.166Z"
   },
   {
    "duration": 5,
    "start_time": "2023-09-16T15:14:27.243Z"
   },
   {
    "duration": 5,
    "start_time": "2023-09-16T15:14:43.224Z"
   },
   {
    "duration": 14,
    "start_time": "2023-09-16T15:14:49.703Z"
   },
   {
    "duration": 23,
    "start_time": "2023-09-16T15:15:05.356Z"
   },
   {
    "duration": 3,
    "start_time": "2023-09-16T15:15:09.065Z"
   },
   {
    "duration": 4,
    "start_time": "2023-09-16T15:15:09.421Z"
   },
   {
    "duration": 3,
    "start_time": "2023-09-16T15:15:10.663Z"
   },
   {
    "duration": 8,
    "start_time": "2023-09-16T15:15:11.061Z"
   },
   {
    "duration": 3,
    "start_time": "2023-09-16T15:17:39.625Z"
   },
   {
    "duration": 9,
    "start_time": "2023-09-16T15:17:40.054Z"
   },
   {
    "duration": 11,
    "start_time": "2023-09-16T15:18:30.188Z"
   },
   {
    "duration": 26,
    "start_time": "2023-09-16T15:18:46.835Z"
   },
   {
    "duration": 4,
    "start_time": "2023-09-16T15:19:07.634Z"
   },
   {
    "duration": 6,
    "start_time": "2023-09-16T15:19:15.721Z"
   },
   {
    "duration": 3,
    "start_time": "2023-09-16T15:19:16.722Z"
   },
   {
    "duration": 3,
    "start_time": "2023-09-16T15:19:17.082Z"
   },
   {
    "duration": 5,
    "start_time": "2023-09-16T15:19:20.407Z"
   },
   {
    "duration": 19,
    "start_time": "2023-09-16T15:19:21.521Z"
   },
   {
    "duration": 11,
    "start_time": "2023-09-16T15:20:18.784Z"
   },
   {
    "duration": 3,
    "start_time": "2023-09-16T15:20:20.910Z"
   },
   {
    "duration": 4,
    "start_time": "2023-09-16T15:20:21.177Z"
   },
   {
    "duration": 20,
    "start_time": "2023-09-16T15:21:27.227Z"
   },
   {
    "duration": 19,
    "start_time": "2023-09-16T15:21:57.657Z"
   },
   {
    "duration": 4,
    "start_time": "2023-09-16T15:23:41.713Z"
   },
   {
    "duration": 6,
    "start_time": "2023-09-16T15:23:41.972Z"
   },
   {
    "duration": 4,
    "start_time": "2023-09-16T15:23:42.831Z"
   },
   {
    "duration": 21,
    "start_time": "2023-09-16T15:23:43.175Z"
   },
   {
    "duration": 4,
    "start_time": "2023-09-16T15:23:43.657Z"
   },
   {
    "duration": 33,
    "start_time": "2023-09-16T15:28:03.143Z"
   },
   {
    "duration": 5,
    "start_time": "2023-09-16T15:28:19.369Z"
   },
   {
    "duration": 3,
    "start_time": "2023-09-16T15:28:20.343Z"
   },
   {
    "duration": 5,
    "start_time": "2023-09-16T15:28:20.588Z"
   },
   {
    "duration": 4,
    "start_time": "2023-09-16T15:28:21.685Z"
   },
   {
    "duration": 31,
    "start_time": "2023-09-16T15:28:23.147Z"
   },
   {
    "duration": 21,
    "start_time": "2023-09-16T15:28:41.799Z"
   },
   {
    "duration": 10,
    "start_time": "2023-09-16T15:29:18.599Z"
   },
   {
    "duration": 25,
    "start_time": "2023-09-16T15:29:47.947Z"
   },
   {
    "duration": 4,
    "start_time": "2023-09-16T15:30:29.001Z"
   },
   {
    "duration": 28,
    "start_time": "2023-09-16T15:30:29.399Z"
   },
   {
    "duration": 19,
    "start_time": "2023-09-16T15:30:50.440Z"
   },
   {
    "duration": 4,
    "start_time": "2023-09-16T15:31:35.864Z"
   },
   {
    "duration": 4,
    "start_time": "2023-09-16T15:31:36.198Z"
   },
   {
    "duration": 3,
    "start_time": "2023-09-16T15:31:37.336Z"
   },
   {
    "duration": 21,
    "start_time": "2023-09-16T15:31:37.857Z"
   },
   {
    "duration": 3,
    "start_time": "2023-09-16T15:32:14.445Z"
   },
   {
    "duration": 21,
    "start_time": "2023-09-16T15:32:14.750Z"
   },
   {
    "duration": 22,
    "start_time": "2023-09-16T15:32:24.055Z"
   },
   {
    "duration": 26,
    "start_time": "2023-09-16T15:33:02.545Z"
   },
   {
    "duration": 11,
    "start_time": "2023-09-16T15:33:02.875Z"
   },
   {
    "duration": 20,
    "start_time": "2023-09-16T15:33:07.976Z"
   },
   {
    "duration": 3,
    "start_time": "2023-09-16T15:34:58.928Z"
   },
   {
    "duration": 19,
    "start_time": "2023-09-16T15:35:09.331Z"
   },
   {
    "duration": 19,
    "start_time": "2023-09-16T15:35:27.632Z"
   },
   {
    "duration": 20,
    "start_time": "2023-09-16T15:36:00.788Z"
   },
   {
    "duration": 4,
    "start_time": "2023-09-16T15:39:43.642Z"
   },
   {
    "duration": 20,
    "start_time": "2023-09-16T15:39:43.973Z"
   },
   {
    "duration": 5,
    "start_time": "2023-09-16T15:41:37.205Z"
   },
   {
    "duration": 8,
    "start_time": "2023-09-16T15:42:11.211Z"
   },
   {
    "duration": 11,
    "start_time": "2023-09-16T15:42:22.380Z"
   },
   {
    "duration": 1608,
    "start_time": "2023-09-16T15:42:35.920Z"
   },
   {
    "duration": 6,
    "start_time": "2023-09-16T15:44:04.267Z"
   },
   {
    "duration": 1576,
    "start_time": "2023-09-16T15:44:04.745Z"
   },
   {
    "duration": 6,
    "start_time": "2023-09-16T15:44:17.159Z"
   },
   {
    "duration": 1707,
    "start_time": "2023-09-16T15:44:22.225Z"
   },
   {
    "duration": 7,
    "start_time": "2023-09-16T15:44:48.623Z"
   },
   {
    "duration": 1511,
    "start_time": "2023-09-16T15:44:48.942Z"
   },
   {
    "duration": 5,
    "start_time": "2023-09-16T15:46:20.371Z"
   },
   {
    "duration": 1546,
    "start_time": "2023-09-16T15:46:20.751Z"
   },
   {
    "duration": 5,
    "start_time": "2023-09-16T15:46:59.185Z"
   },
   {
    "duration": 1643,
    "start_time": "2023-09-16T15:47:01.386Z"
   },
   {
    "duration": 100,
    "start_time": "2023-09-16T15:47:21.386Z"
   },
   {
    "duration": 1596,
    "start_time": "2023-09-16T15:47:21.670Z"
   },
   {
    "duration": 5,
    "start_time": "2023-09-16T15:47:36.930Z"
   },
   {
    "duration": 1541,
    "start_time": "2023-09-16T15:47:37.435Z"
   },
   {
    "duration": 4,
    "start_time": "2023-09-16T15:47:44.082Z"
   },
   {
    "duration": 1581,
    "start_time": "2023-09-16T15:47:44.454Z"
   },
   {
    "duration": 6,
    "start_time": "2023-09-16T15:48:25.295Z"
   },
   {
    "duration": 1498,
    "start_time": "2023-09-16T15:48:25.670Z"
   },
   {
    "duration": 5,
    "start_time": "2023-09-16T15:48:35.756Z"
   },
   {
    "duration": 1617,
    "start_time": "2023-09-16T15:48:36.291Z"
   },
   {
    "duration": 12,
    "start_time": "2023-09-16T15:50:08.203Z"
   },
   {
    "duration": 1521,
    "start_time": "2023-09-16T15:50:08.657Z"
   },
   {
    "duration": 11,
    "start_time": "2023-09-16T15:50:50.410Z"
   },
   {
    "duration": 1587,
    "start_time": "2023-09-16T15:50:50.966Z"
   },
   {
    "duration": 5,
    "start_time": "2023-09-16T15:51:07.341Z"
   },
   {
    "duration": 1621,
    "start_time": "2023-09-16T15:51:11.197Z"
   },
   {
    "duration": 12,
    "start_time": "2023-09-16T15:51:42.113Z"
   },
   {
    "duration": 1600,
    "start_time": "2023-09-16T15:51:42.507Z"
   },
   {
    "duration": 10,
    "start_time": "2023-09-16T15:52:33.210Z"
   },
   {
    "duration": 1517,
    "start_time": "2023-09-16T15:52:33.588Z"
   },
   {
    "duration": 1498,
    "start_time": "2023-09-16T15:52:48.051Z"
   },
   {
    "duration": 1576,
    "start_time": "2023-09-16T15:52:58.956Z"
   },
   {
    "duration": 1526,
    "start_time": "2023-09-16T15:53:00.534Z"
   },
   {
    "duration": 392,
    "start_time": "2023-09-16T16:04:46.985Z"
   },
   {
    "duration": 430,
    "start_time": "2023-09-16T16:05:18.660Z"
   },
   {
    "duration": 521,
    "start_time": "2023-09-16T16:05:21.246Z"
   },
   {
    "duration": 5,
    "start_time": "2023-09-16T16:11:38.739Z"
   },
   {
    "duration": 461,
    "start_time": "2023-09-16T16:11:39.915Z"
   },
   {
    "duration": 22,
    "start_time": "2023-09-16T16:11:41.415Z"
   },
   {
    "duration": 17,
    "start_time": "2023-09-16T16:11:41.730Z"
   },
   {
    "duration": 17,
    "start_time": "2023-09-16T16:11:42.147Z"
   },
   {
    "duration": 4,
    "start_time": "2023-09-16T16:14:10.248Z"
   },
   {
    "duration": 447,
    "start_time": "2023-09-16T16:14:12.774Z"
   },
   {
    "duration": 16,
    "start_time": "2023-09-16T16:14:13.224Z"
   },
   {
    "duration": 16,
    "start_time": "2023-09-16T16:14:14.751Z"
   },
   {
    "duration": 17,
    "start_time": "2023-09-16T16:14:14.985Z"
   },
   {
    "duration": 40,
    "start_time": "2023-09-16T16:14:15.251Z"
   },
   {
    "duration": 39,
    "start_time": "2023-09-16T16:14:16.630Z"
   },
   {
    "duration": 52,
    "start_time": "2023-09-16T16:14:16.897Z"
   },
   {
    "duration": 86,
    "start_time": "2023-09-16T16:14:17.639Z"
   },
   {
    "duration": 47,
    "start_time": "2023-09-16T16:14:18.054Z"
   },
   {
    "duration": 51,
    "start_time": "2023-09-16T16:14:18.478Z"
   },
   {
    "duration": 11,
    "start_time": "2023-09-16T16:14:20.632Z"
   },
   {
    "duration": 381,
    "start_time": "2023-09-16T16:14:23.428Z"
   },
   {
    "duration": 432,
    "start_time": "2023-09-16T16:14:24.970Z"
   },
   {
    "duration": 412,
    "start_time": "2023-09-16T16:14:25.856Z"
   },
   {
    "duration": 13,
    "start_time": "2023-09-16T16:14:31.043Z"
   },
   {
    "duration": 4,
    "start_time": "2023-09-16T16:14:37.759Z"
   },
   {
    "duration": 18,
    "start_time": "2023-09-16T16:14:38.143Z"
   },
   {
    "duration": 18,
    "start_time": "2023-09-16T16:14:38.992Z"
   },
   {
    "duration": 23,
    "start_time": "2023-09-16T16:14:39.400Z"
   },
   {
    "duration": 19,
    "start_time": "2023-09-16T16:14:42.125Z"
   },
   {
    "duration": 14,
    "start_time": "2023-09-16T16:14:42.372Z"
   },
   {
    "duration": 20,
    "start_time": "2023-09-16T16:14:42.712Z"
   },
   {
    "duration": 446,
    "start_time": "2023-09-16T16:14:43.319Z"
   },
   {
    "duration": 4,
    "start_time": "2023-09-16T16:14:48.124Z"
   },
   {
    "duration": 3,
    "start_time": "2023-09-16T16:14:49.925Z"
   },
   {
    "duration": 3,
    "start_time": "2023-09-16T16:14:50.282Z"
   },
   {
    "duration": 3,
    "start_time": "2023-09-16T16:14:53.323Z"
   },
   {
    "duration": 22,
    "start_time": "2023-09-16T16:14:53.749Z"
   },
   {
    "duration": 5,
    "start_time": "2023-09-16T16:14:56.392Z"
   },
   {
    "duration": 1498,
    "start_time": "2023-09-16T16:14:56.803Z"
   },
   {
    "duration": 1544,
    "start_time": "2023-09-16T16:14:58.309Z"
   },
   {
    "duration": 1549,
    "start_time": "2023-09-16T16:14:59.855Z"
   },
   {
    "duration": 1380,
    "start_time": "2023-09-16T16:18:50.419Z"
   },
   {
    "duration": 2056,
    "start_time": "2023-09-16T22:53:14.701Z"
   },
   {
    "duration": 500,
    "start_time": "2023-09-16T22:53:16.758Z"
   },
   {
    "duration": 16,
    "start_time": "2023-09-16T22:53:17.260Z"
   },
   {
    "duration": 41,
    "start_time": "2023-09-16T22:53:17.278Z"
   },
   {
    "duration": 18,
    "start_time": "2023-09-16T22:53:17.327Z"
   },
   {
    "duration": 42,
    "start_time": "2023-09-16T22:53:17.346Z"
   },
   {
    "duration": 46,
    "start_time": "2023-09-16T22:53:17.390Z"
   },
   {
    "duration": 35,
    "start_time": "2023-09-16T22:53:17.438Z"
   },
   {
    "duration": 71,
    "start_time": "2023-09-16T22:53:17.474Z"
   },
   {
    "duration": 57,
    "start_time": "2023-09-16T22:53:17.548Z"
   },
   {
    "duration": 57,
    "start_time": "2023-09-16T22:53:17.606Z"
   },
   {
    "duration": 10,
    "start_time": "2023-09-16T22:53:17.664Z"
   },
   {
    "duration": 406,
    "start_time": "2023-09-16T22:53:17.676Z"
   },
   {
    "duration": 380,
    "start_time": "2023-09-16T22:53:18.084Z"
   },
   {
    "duration": 434,
    "start_time": "2023-09-16T22:53:18.466Z"
   },
   {
    "duration": 21,
    "start_time": "2023-09-16T22:53:18.903Z"
   },
   {
    "duration": 1966,
    "start_time": "2023-09-16T22:53:18.932Z"
   },
   {
    "duration": 18,
    "start_time": "2023-09-16T22:53:20.900Z"
   },
   {
    "duration": 11,
    "start_time": "2023-09-16T22:53:20.920Z"
   },
   {
    "duration": 19,
    "start_time": "2023-09-16T22:53:20.934Z"
   },
   {
    "duration": 6,
    "start_time": "2023-09-16T22:53:20.955Z"
   },
   {
    "duration": 61,
    "start_time": "2023-09-16T22:53:20.962Z"
   },
   {
    "duration": 21,
    "start_time": "2023-09-16T22:53:21.029Z"
   },
   {
    "duration": 68,
    "start_time": "2023-09-16T22:53:21.052Z"
   },
   {
    "duration": 94,
    "start_time": "2023-09-16T22:53:21.123Z"
   },
   {
    "duration": 187,
    "start_time": "2023-09-16T22:53:21.221Z"
   },
   {
    "duration": 94,
    "start_time": "2023-09-16T22:53:21.425Z"
   },
   {
    "duration": 803,
    "start_time": "2023-09-16T22:53:21.524Z"
   },
   {
    "duration": 7,
    "start_time": "2023-09-16T22:53:22.330Z"
   },
   {
    "duration": 73,
    "start_time": "2023-09-16T22:53:22.339Z"
   },
   {
    "duration": 48,
    "start_time": "2023-09-16T22:53:22.414Z"
   },
   {
    "duration": 40,
    "start_time": "2023-09-16T22:53:22.465Z"
   },
   {
    "duration": 36,
    "start_time": "2023-09-16T22:53:22.508Z"
   },
   {
    "duration": 8,
    "start_time": "2023-09-16T22:53:22.546Z"
   },
   {
    "duration": 1856,
    "start_time": "2023-09-16T22:53:22.602Z"
   },
   {
    "duration": 1624,
    "start_time": "2023-09-16T22:53:24.460Z"
   },
   {
    "duration": 1539,
    "start_time": "2023-09-16T22:53:26.086Z"
   },
   {
    "duration": 2315,
    "start_time": "2023-09-16T22:55:04.156Z"
   },
   {
    "duration": 566,
    "start_time": "2023-09-16T22:55:06.474Z"
   },
   {
    "duration": 25,
    "start_time": "2023-09-16T22:55:07.043Z"
   },
   {
    "duration": 18,
    "start_time": "2023-09-16T22:55:07.071Z"
   },
   {
    "duration": 30,
    "start_time": "2023-09-16T22:55:07.091Z"
   },
   {
    "duration": 48,
    "start_time": "2023-09-16T22:55:07.130Z"
   },
   {
    "duration": 63,
    "start_time": "2023-09-16T22:55:07.180Z"
   },
   {
    "duration": 40,
    "start_time": "2023-09-16T22:55:07.246Z"
   },
   {
    "duration": 63,
    "start_time": "2023-09-16T22:55:07.312Z"
   },
   {
    "duration": 66,
    "start_time": "2023-09-16T22:55:07.376Z"
   },
   {
    "duration": 50,
    "start_time": "2023-09-16T22:55:07.444Z"
   },
   {
    "duration": 14,
    "start_time": "2023-09-16T22:55:07.502Z"
   },
   {
    "duration": 453,
    "start_time": "2023-09-16T22:55:07.519Z"
   },
   {
    "duration": 438,
    "start_time": "2023-09-16T22:55:07.977Z"
   },
   {
    "duration": 410,
    "start_time": "2023-09-16T22:55:08.417Z"
   },
   {
    "duration": 20,
    "start_time": "2023-09-16T22:55:08.830Z"
   },
   {
    "duration": 2540,
    "start_time": "2023-09-16T22:55:08.851Z"
   },
   {
    "duration": 24,
    "start_time": "2023-09-16T22:55:11.393Z"
   },
   {
    "duration": 10,
    "start_time": "2023-09-16T22:55:11.419Z"
   },
   {
    "duration": 21,
    "start_time": "2023-09-16T22:55:11.432Z"
   },
   {
    "duration": 49,
    "start_time": "2023-09-16T22:55:11.456Z"
   },
   {
    "duration": 44,
    "start_time": "2023-09-16T22:55:11.510Z"
   },
   {
    "duration": 92,
    "start_time": "2023-09-16T22:55:11.557Z"
   },
   {
    "duration": 75,
    "start_time": "2023-09-16T22:55:11.651Z"
   },
   {
    "duration": 184,
    "start_time": "2023-09-16T22:55:11.728Z"
   },
   {
    "duration": 189,
    "start_time": "2023-09-16T22:55:11.914Z"
   },
   {
    "duration": 121,
    "start_time": "2023-09-16T22:55:12.105Z"
   },
   {
    "duration": 877,
    "start_time": "2023-09-16T22:55:12.231Z"
   },
   {
    "duration": 5,
    "start_time": "2023-09-16T22:55:13.110Z"
   },
   {
    "duration": 21,
    "start_time": "2023-09-16T22:55:13.117Z"
   },
   {
    "duration": 70,
    "start_time": "2023-09-16T22:55:13.141Z"
   },
   {
    "duration": 14,
    "start_time": "2023-09-16T22:55:13.213Z"
   },
   {
    "duration": 92,
    "start_time": "2023-09-16T22:55:13.229Z"
   },
   {
    "duration": 9,
    "start_time": "2023-09-16T22:55:13.323Z"
   },
   {
    "duration": 3330,
    "start_time": "2023-09-16T22:55:13.335Z"
   },
   {
    "duration": 3163,
    "start_time": "2023-09-16T22:55:16.667Z"
   },
   {
    "duration": 3109,
    "start_time": "2023-09-16T22:55:19.832Z"
   },
   {
    "duration": 2027,
    "start_time": "2023-09-16T23:20:49.430Z"
   },
   {
    "duration": 503,
    "start_time": "2023-09-16T23:20:51.459Z"
   },
   {
    "duration": 17,
    "start_time": "2023-09-16T23:20:51.964Z"
   },
   {
    "duration": 43,
    "start_time": "2023-09-16T23:20:51.983Z"
   },
   {
    "duration": 26,
    "start_time": "2023-09-16T23:20:52.028Z"
   },
   {
    "duration": 76,
    "start_time": "2023-09-16T23:20:52.056Z"
   },
   {
    "duration": 49,
    "start_time": "2023-09-16T23:20:52.134Z"
   },
   {
    "duration": 57,
    "start_time": "2023-09-16T23:20:52.185Z"
   },
   {
    "duration": 62,
    "start_time": "2023-09-16T23:20:52.244Z"
   },
   {
    "duration": 60,
    "start_time": "2023-09-16T23:20:52.309Z"
   },
   {
    "duration": 79,
    "start_time": "2023-09-16T23:20:52.371Z"
   },
   {
    "duration": 13,
    "start_time": "2023-09-16T23:20:52.453Z"
   },
   {
    "duration": 478,
    "start_time": "2023-09-16T23:20:52.468Z"
   },
   {
    "duration": 433,
    "start_time": "2023-09-16T23:20:52.950Z"
   },
   {
    "duration": 438,
    "start_time": "2023-09-16T23:20:53.386Z"
   },
   {
    "duration": 27,
    "start_time": "2023-09-16T23:20:53.829Z"
   },
   {
    "duration": 2226,
    "start_time": "2023-09-16T23:20:53.858Z"
   },
   {
    "duration": 22,
    "start_time": "2023-09-16T23:20:56.086Z"
   },
   {
    "duration": 47,
    "start_time": "2023-09-16T23:20:56.112Z"
   },
   {
    "duration": 70,
    "start_time": "2023-09-16T23:20:56.161Z"
   },
   {
    "duration": 46,
    "start_time": "2023-09-16T23:20:56.233Z"
   },
   {
    "duration": 57,
    "start_time": "2023-09-16T23:20:56.281Z"
   },
   {
    "duration": 98,
    "start_time": "2023-09-16T23:20:56.343Z"
   },
   {
    "duration": 205,
    "start_time": "2023-09-16T23:20:56.443Z"
   },
   {
    "duration": 261,
    "start_time": "2023-09-16T23:20:56.650Z"
   },
   {
    "duration": 186,
    "start_time": "2023-09-16T23:20:56.915Z"
   },
   {
    "duration": 46,
    "start_time": "2023-09-16T23:20:57.104Z"
   },
   {
    "duration": 660,
    "start_time": "2023-09-16T23:20:57.215Z"
   },
   {
    "duration": 26,
    "start_time": "2023-09-16T23:20:57.876Z"
   },
   {
    "duration": 6,
    "start_time": "2023-09-16T23:20:57.904Z"
   },
   {
    "duration": 25,
    "start_time": "2023-09-16T23:20:57.912Z"
   },
   {
    "duration": 8,
    "start_time": "2023-09-16T23:20:57.939Z"
   },
   {
    "duration": 37,
    "start_time": "2023-09-16T23:20:57.949Z"
   },
   {
    "duration": 6,
    "start_time": "2023-09-16T23:20:57.989Z"
   },
   {
    "duration": 3877,
    "start_time": "2023-09-16T23:20:57.996Z"
   },
   {
    "duration": 4174,
    "start_time": "2023-09-16T23:21:01.875Z"
   },
   {
    "duration": 3926,
    "start_time": "2023-09-16T23:21:06.051Z"
   },
   {
    "duration": 11,
    "start_time": "2023-09-16T23:22:02.839Z"
   },
   {
    "duration": 10,
    "start_time": "2023-09-16T23:22:28.516Z"
   },
   {
    "duration": 1982,
    "start_time": "2023-09-17T16:22:22.613Z"
   },
   {
    "duration": 1082,
    "start_time": "2023-09-17T16:22:24.597Z"
   },
   {
    "duration": 18,
    "start_time": "2023-09-17T16:22:25.681Z"
   },
   {
    "duration": 22,
    "start_time": "2023-09-17T16:22:25.701Z"
   },
   {
    "duration": 18,
    "start_time": "2023-09-17T16:22:25.725Z"
   },
   {
    "duration": 82,
    "start_time": "2023-09-17T16:22:25.745Z"
   },
   {
    "duration": 39,
    "start_time": "2023-09-17T16:22:25.830Z"
   },
   {
    "duration": 57,
    "start_time": "2023-09-17T16:22:25.872Z"
   },
   {
    "duration": 61,
    "start_time": "2023-09-17T16:22:28.393Z"
   },
   {
    "duration": 53,
    "start_time": "2023-09-17T16:22:28.723Z"
   },
   {
    "duration": 51,
    "start_time": "2023-09-17T16:22:29.044Z"
   },
   {
    "duration": 10,
    "start_time": "2023-09-17T16:22:29.804Z"
   },
   {
    "duration": 435,
    "start_time": "2023-09-17T16:22:32.862Z"
   },
   {
    "duration": 399,
    "start_time": "2023-09-17T16:22:33.299Z"
   },
   {
    "duration": 387,
    "start_time": "2023-09-17T16:22:33.702Z"
   },
   {
    "duration": 17,
    "start_time": "2023-09-17T16:22:36.823Z"
   },
   {
    "duration": 1725,
    "start_time": "2023-09-17T16:22:37.224Z"
   },
   {
    "duration": 3,
    "start_time": "2023-09-17T16:22:39.585Z"
   },
   {
    "duration": 3,
    "start_time": "2023-09-17T16:22:39.622Z"
   },
   {
    "duration": 2,
    "start_time": "2023-09-17T16:22:39.797Z"
   },
   {
    "duration": 3,
    "start_time": "2023-09-17T16:22:41.083Z"
   },
   {
    "duration": 27,
    "start_time": "2023-09-17T16:22:41.297Z"
   },
   {
    "duration": 18,
    "start_time": "2023-09-17T16:22:41.524Z"
   },
   {
    "duration": 18,
    "start_time": "2023-09-17T16:22:42.071Z"
   },
   {
    "duration": 21,
    "start_time": "2023-09-17T16:22:43.408Z"
   },
   {
    "duration": 21,
    "start_time": "2023-09-17T16:22:45.332Z"
   },
   {
    "duration": 13,
    "start_time": "2023-09-17T16:22:45.664Z"
   },
   {
    "duration": 421,
    "start_time": "2023-09-17T16:22:46.022Z"
   },
   {
    "duration": 5,
    "start_time": "2023-09-17T16:22:46.842Z"
   },
   {
    "duration": 4,
    "start_time": "2023-09-17T16:22:49.758Z"
   },
   {
    "duration": 7,
    "start_time": "2023-09-17T16:22:50.025Z"
   },
   {
    "duration": 7,
    "start_time": "2023-09-17T16:22:51.286Z"
   },
   {
    "duration": 8,
    "start_time": "2023-09-17T16:22:55.075Z"
   },
   {
    "duration": 13,
    "start_time": "2023-09-17T16:22:58.905Z"
   },
   {
    "duration": 26,
    "start_time": "2023-09-17T16:23:01.173Z"
   },
   {
    "duration": 6,
    "start_time": "2023-09-17T16:23:07.300Z"
   },
   {
    "duration": 3768,
    "start_time": "2023-09-17T16:23:07.691Z"
   },
   {
    "duration": 1698,
    "start_time": "2023-09-17T16:25:08.196Z"
   },
   {
    "duration": 487,
    "start_time": "2023-09-17T16:25:09.897Z"
   },
   {
    "duration": 31,
    "start_time": "2023-09-17T16:25:10.386Z"
   },
   {
    "duration": 18,
    "start_time": "2023-09-17T16:25:10.421Z"
   },
   {
    "duration": 17,
    "start_time": "2023-09-17T16:25:10.441Z"
   },
   {
    "duration": 67,
    "start_time": "2023-09-17T16:25:10.460Z"
   },
   {
    "duration": 39,
    "start_time": "2023-09-17T16:25:10.529Z"
   },
   {
    "duration": 68,
    "start_time": "2023-09-17T16:25:10.569Z"
   },
   {
    "duration": 52,
    "start_time": "2023-09-17T16:25:10.639Z"
   },
   {
    "duration": 61,
    "start_time": "2023-09-17T16:25:10.709Z"
   },
   {
    "duration": 73,
    "start_time": "2023-09-17T16:25:10.772Z"
   },
   {
    "duration": 10,
    "start_time": "2023-09-17T16:25:10.847Z"
   },
   {
    "duration": 445,
    "start_time": "2023-09-17T16:25:10.859Z"
   },
   {
    "duration": 387,
    "start_time": "2023-09-17T16:25:11.306Z"
   },
   {
    "duration": 404,
    "start_time": "2023-09-17T16:25:11.695Z"
   },
   {
    "duration": 25,
    "start_time": "2023-09-17T16:25:12.101Z"
   },
   {
    "duration": 4,
    "start_time": "2023-09-17T16:25:12.129Z"
   },
   {
    "duration": 44,
    "start_time": "2023-09-17T16:25:12.135Z"
   },
   {
    "duration": 44,
    "start_time": "2023-09-17T16:25:12.181Z"
   },
   {
    "duration": 69,
    "start_time": "2023-09-17T16:25:12.227Z"
   },
   {
    "duration": 55,
    "start_time": "2023-09-17T16:25:12.298Z"
   },
   {
    "duration": 76,
    "start_time": "2023-09-17T16:25:12.355Z"
   },
   {
    "duration": 55,
    "start_time": "2023-09-17T16:25:12.432Z"
   },
   {
    "duration": 59,
    "start_time": "2023-09-17T16:25:12.495Z"
   },
   {
    "duration": 131,
    "start_time": "2023-09-17T16:25:12.556Z"
   },
   {
    "duration": 154,
    "start_time": "2023-09-17T16:25:12.690Z"
   },
   {
    "duration": 174,
    "start_time": "2023-09-17T16:25:12.847Z"
   },
   {
    "duration": 626,
    "start_time": "2023-09-17T16:25:13.026Z"
   },
   {
    "duration": 4,
    "start_time": "2023-09-17T16:25:13.655Z"
   },
   {
    "duration": 53,
    "start_time": "2023-09-17T16:25:13.662Z"
   },
   {
    "duration": 33,
    "start_time": "2023-09-17T16:25:13.721Z"
   },
   {
    "duration": 33,
    "start_time": "2023-09-17T16:25:13.756Z"
   },
   {
    "duration": 52,
    "start_time": "2023-09-17T16:25:13.791Z"
   },
   {
    "duration": 35,
    "start_time": "2023-09-17T16:25:13.844Z"
   },
   {
    "duration": 64,
    "start_time": "2023-09-17T16:25:13.881Z"
   },
   {
    "duration": 36,
    "start_time": "2023-09-17T16:25:13.947Z"
   },
   {
    "duration": 3714,
    "start_time": "2023-09-17T16:25:13.985Z"
   },
   {
    "duration": 3575,
    "start_time": "2023-09-17T16:25:17.709Z"
   },
   {
    "duration": 3809,
    "start_time": "2023-09-17T16:25:21.286Z"
   },
   {
    "duration": 5,
    "start_time": "2023-09-17T16:28:22.640Z"
   },
   {
    "duration": 7,
    "start_time": "2023-09-17T16:28:23.597Z"
   },
   {
    "duration": 9,
    "start_time": "2023-09-17T16:28:26.118Z"
   },
   {
    "duration": 149,
    "start_time": "2023-09-17T16:28:26.877Z"
   },
   {
    "duration": 6,
    "start_time": "2023-09-17T16:28:35.771Z"
   },
   {
    "duration": 27,
    "start_time": "2023-09-17T16:28:36.971Z"
   },
   {
    "duration": 7,
    "start_time": "2023-09-17T16:29:16.153Z"
   },
   {
    "duration": 14,
    "start_time": "2023-09-17T16:29:16.912Z"
   },
   {
    "duration": 12,
    "start_time": "2023-09-17T16:29:19.825Z"
   },
   {
    "duration": 26,
    "start_time": "2023-09-17T16:29:20.859Z"
   },
   {
    "duration": 5,
    "start_time": "2023-09-17T16:29:23.575Z"
   },
   {
    "duration": 3546,
    "start_time": "2023-09-17T16:29:25.764Z"
   },
   {
    "duration": 4,
    "start_time": "2023-09-17T16:30:15.823Z"
   },
   {
    "duration": 29,
    "start_time": "2023-09-17T16:30:20.511Z"
   },
   {
    "duration": 13,
    "start_time": "2023-09-17T16:30:26.605Z"
   },
   {
    "duration": 3639,
    "start_time": "2023-09-17T16:30:27.039Z"
   },
   {
    "duration": 5,
    "start_time": "2023-09-17T16:31:05.630Z"
   },
   {
    "duration": 9,
    "start_time": "2023-09-17T16:31:06.524Z"
   },
   {
    "duration": 7,
    "start_time": "2023-09-17T16:31:08.227Z"
   },
   {
    "duration": 48,
    "start_time": "2023-09-17T16:31:08.990Z"
   },
   {
    "duration": 12,
    "start_time": "2023-09-17T16:31:11.604Z"
   },
   {
    "duration": 4277,
    "start_time": "2023-09-17T16:31:11.960Z"
   },
   {
    "duration": 4217,
    "start_time": "2023-09-17T16:31:19.227Z"
   },
   {
    "duration": 4343,
    "start_time": "2023-09-17T16:31:23.447Z"
   },
   {
    "duration": 5,
    "start_time": "2023-09-17T16:33:48.332Z"
   },
   {
    "duration": 11,
    "start_time": "2023-09-17T16:33:49.513Z"
   },
   {
    "duration": 8,
    "start_time": "2023-09-17T16:33:51.538Z"
   },
   {
    "duration": 33,
    "start_time": "2023-09-17T16:33:52.202Z"
   },
   {
    "duration": 8,
    "start_time": "2023-09-17T16:33:53.919Z"
   },
   {
    "duration": 29,
    "start_time": "2023-09-17T16:33:55.148Z"
   },
   {
    "duration": 4,
    "start_time": "2023-09-17T16:34:43.939Z"
   },
   {
    "duration": 27,
    "start_time": "2023-09-17T16:34:48.780Z"
   },
   {
    "duration": 4,
    "start_time": "2023-09-17T16:35:11.099Z"
   },
   {
    "duration": 10,
    "start_time": "2023-09-17T16:35:13.223Z"
   },
   {
    "duration": 8,
    "start_time": "2023-09-17T16:35:13.724Z"
   },
   {
    "duration": 29,
    "start_time": "2023-09-17T16:35:15.396Z"
   },
   {
    "duration": 5,
    "start_time": "2023-09-17T16:35:33.070Z"
   },
   {
    "duration": 8,
    "start_time": "2023-09-17T16:35:35.735Z"
   },
   {
    "duration": 29,
    "start_time": "2023-09-17T16:35:38.571Z"
   },
   {
    "duration": 5,
    "start_time": "2023-09-17T16:36:51.071Z"
   },
   {
    "duration": 27,
    "start_time": "2023-09-17T16:36:55.279Z"
   },
   {
    "duration": 4,
    "start_time": "2023-09-17T16:39:14.069Z"
   },
   {
    "duration": 26,
    "start_time": "2023-09-17T16:39:17.112Z"
   },
   {
    "duration": 6,
    "start_time": "2023-09-17T16:39:20.629Z"
   },
   {
    "duration": 3820,
    "start_time": "2023-09-17T16:39:21.169Z"
   },
   {
    "duration": 15,
    "start_time": "2023-09-17T16:40:34.511Z"
   },
   {
    "duration": 23,
    "start_time": "2023-09-17T16:40:37.478Z"
   },
   {
    "duration": 3841,
    "start_time": "2023-09-17T16:40:41.493Z"
   },
   {
    "duration": 4,
    "start_time": "2023-09-17T16:41:35.851Z"
   },
   {
    "duration": 12,
    "start_time": "2023-09-17T16:41:36.909Z"
   },
   {
    "duration": 7,
    "start_time": "2023-09-17T16:41:38.681Z"
   },
   {
    "duration": 27,
    "start_time": "2023-09-17T16:41:39.443Z"
   },
   {
    "duration": 6,
    "start_time": "2023-09-17T16:41:41.756Z"
   },
   {
    "duration": 3886,
    "start_time": "2023-09-17T16:41:42.114Z"
   },
   {
    "duration": 119,
    "start_time": "2023-09-17T16:42:50.608Z"
   },
   {
    "duration": 5,
    "start_time": "2023-09-17T16:43:10.281Z"
   },
   {
    "duration": 31,
    "start_time": "2023-09-17T16:43:15.686Z"
   },
   {
    "duration": 5,
    "start_time": "2023-09-17T16:44:14.739Z"
   },
   {
    "duration": 13,
    "start_time": "2023-09-17T16:44:15.505Z"
   },
   {
    "duration": 7,
    "start_time": "2023-09-17T16:44:17.039Z"
   },
   {
    "duration": 26,
    "start_time": "2023-09-17T16:44:23.956Z"
   },
   {
    "duration": 4,
    "start_time": "2023-09-17T16:45:06.371Z"
   },
   {
    "duration": 6,
    "start_time": "2023-09-17T16:45:10.703Z"
   },
   {
    "duration": 3954,
    "start_time": "2023-09-17T16:45:11.195Z"
   },
   {
    "duration": 7,
    "start_time": "2023-09-17T16:46:09.607Z"
   },
   {
    "duration": 5,
    "start_time": "2023-09-17T16:47:56.940Z"
   },
   {
    "duration": 30,
    "start_time": "2023-09-17T16:48:00.261Z"
   },
   {
    "duration": 28,
    "start_time": "2023-09-17T16:48:04.931Z"
   },
   {
    "duration": 8,
    "start_time": "2023-09-17T16:49:32.805Z"
   },
   {
    "duration": 8,
    "start_time": "2023-09-17T16:49:33.603Z"
   },
   {
    "duration": 25,
    "start_time": "2023-09-17T16:49:37.342Z"
   },
   {
    "duration": 6,
    "start_time": "2023-09-17T16:49:39.488Z"
   },
   {
    "duration": 4192,
    "start_time": "2023-09-17T16:49:39.669Z"
   },
   {
    "duration": 4,
    "start_time": "2023-09-17T16:51:07.024Z"
   },
   {
    "duration": 13,
    "start_time": "2023-09-17T16:51:09.509Z"
   },
   {
    "duration": 8,
    "start_time": "2023-09-17T16:51:10.326Z"
   },
   {
    "duration": 31,
    "start_time": "2023-09-17T16:51:10.968Z"
   },
   {
    "duration": 10,
    "start_time": "2023-09-17T16:52:21.974Z"
   },
   {
    "duration": 11,
    "start_time": "2023-09-17T16:52:29.390Z"
   },
   {
    "duration": 126,
    "start_time": "2023-09-17T16:53:17.878Z"
   },
   {
    "duration": 1646,
    "start_time": "2023-09-17T21:38:10.737Z"
   },
   {
    "duration": 841,
    "start_time": "2023-09-17T21:38:12.385Z"
   },
   {
    "duration": 16,
    "start_time": "2023-09-17T21:38:13.228Z"
   },
   {
    "duration": 14,
    "start_time": "2023-09-17T21:38:13.246Z"
   },
   {
    "duration": 14,
    "start_time": "2023-09-17T21:38:13.262Z"
   },
   {
    "duration": 66,
    "start_time": "2023-09-17T21:38:13.277Z"
   },
   {
    "duration": 40,
    "start_time": "2023-09-17T21:38:13.345Z"
   },
   {
    "duration": 53,
    "start_time": "2023-09-17T21:38:13.387Z"
   },
   {
    "duration": 42,
    "start_time": "2023-09-17T21:38:13.442Z"
   },
   {
    "duration": 55,
    "start_time": "2023-09-17T21:38:13.487Z"
   },
   {
    "duration": 42,
    "start_time": "2023-09-17T21:38:13.543Z"
   },
   {
    "duration": 10,
    "start_time": "2023-09-17T21:38:13.586Z"
   },
   {
    "duration": 404,
    "start_time": "2023-09-17T21:38:13.597Z"
   },
   {
    "duration": 374,
    "start_time": "2023-09-17T21:38:14.003Z"
   },
   {
    "duration": 365,
    "start_time": "2023-09-17T21:38:14.379Z"
   },
   {
    "duration": 15,
    "start_time": "2023-09-17T21:38:14.746Z"
   },
   {
    "duration": 5,
    "start_time": "2023-09-17T21:38:14.763Z"
   },
   {
    "duration": 18,
    "start_time": "2023-09-17T21:38:14.770Z"
   },
   {
    "duration": 6,
    "start_time": "2023-09-17T21:38:14.790Z"
   },
   {
    "duration": 7,
    "start_time": "2023-09-17T21:38:14.797Z"
   },
   {
    "duration": 13,
    "start_time": "2023-09-17T21:38:14.806Z"
   },
   {
    "duration": 24,
    "start_time": "2023-09-17T21:38:14.820Z"
   },
   {
    "duration": 17,
    "start_time": "2023-09-17T21:38:14.846Z"
   },
   {
    "duration": 20,
    "start_time": "2023-09-17T21:38:14.865Z"
   },
   {
    "duration": 138,
    "start_time": "2023-09-17T21:38:14.887Z"
   },
   {
    "duration": 101,
    "start_time": "2023-09-17T21:38:15.027Z"
   },
   {
    "duration": 204,
    "start_time": "2023-09-17T21:38:15.131Z"
   },
   {
    "duration": 527,
    "start_time": "2023-09-17T21:38:15.426Z"
   },
   {
    "duration": 4,
    "start_time": "2023-09-17T21:38:15.954Z"
   },
   {
    "duration": 57,
    "start_time": "2023-09-17T21:38:15.961Z"
   },
   {
    "duration": 34,
    "start_time": "2023-09-17T21:38:16.020Z"
   },
   {
    "duration": 137,
    "start_time": "2023-09-17T21:38:16.056Z"
   },
   {
    "duration": 0,
    "start_time": "2023-09-17T21:38:16.195Z"
   },
   {
    "duration": 0,
    "start_time": "2023-09-17T21:38:16.196Z"
   },
   {
    "duration": 0,
    "start_time": "2023-09-17T21:38:16.197Z"
   },
   {
    "duration": 0,
    "start_time": "2023-09-17T21:38:16.198Z"
   },
   {
    "duration": 0,
    "start_time": "2023-09-17T21:38:16.200Z"
   },
   {
    "duration": 0,
    "start_time": "2023-09-17T21:38:16.201Z"
   },
   {
    "duration": 0,
    "start_time": "2023-09-17T21:38:16.202Z"
   },
   {
    "duration": 0,
    "start_time": "2023-09-17T21:38:16.204Z"
   },
   {
    "duration": 9,
    "start_time": "2023-09-17T21:39:16.669Z"
   },
   {
    "duration": 120,
    "start_time": "2023-09-17T21:40:20.071Z"
   },
   {
    "duration": 4,
    "start_time": "2023-09-17T21:40:27.100Z"
   },
   {
    "duration": 8,
    "start_time": "2023-09-17T21:40:28.110Z"
   },
   {
    "duration": 7,
    "start_time": "2023-09-17T21:40:28.869Z"
   },
   {
    "duration": 18,
    "start_time": "2023-09-17T21:40:29.477Z"
   },
   {
    "duration": 6,
    "start_time": "2023-09-17T21:40:30.865Z"
   },
   {
    "duration": 17,
    "start_time": "2023-09-17T21:40:32.685Z"
   },
   {
    "duration": 5,
    "start_time": "2023-09-17T21:40:43.602Z"
   },
   {
    "duration": 6,
    "start_time": "2023-09-17T21:40:46.569Z"
   },
   {
    "duration": 3131,
    "start_time": "2023-09-17T21:40:46.877Z"
   },
   {
    "duration": 4,
    "start_time": "2023-09-17T21:43:57.891Z"
   },
   {
    "duration": 4,
    "start_time": "2023-09-17T21:44:07.297Z"
   },
   {
    "duration": 5,
    "start_time": "2023-09-17T21:44:07.737Z"
   },
   {
    "duration": 3086,
    "start_time": "2023-09-17T21:44:08.172Z"
   },
   {
    "duration": 7,
    "start_time": "2023-09-17T21:44:54.626Z"
   },
   {
    "duration": 5,
    "start_time": "2023-09-17T21:44:56.872Z"
   },
   {
    "duration": 2999,
    "start_time": "2023-09-17T21:44:57.168Z"
   },
   {
    "duration": 5,
    "start_time": "2023-09-17T21:48:22.867Z"
   },
   {
    "duration": 6,
    "start_time": "2023-09-17T21:48:23.471Z"
   },
   {
    "duration": 19,
    "start_time": "2023-09-17T21:48:25.693Z"
   },
   {
    "duration": 4,
    "start_time": "2023-09-17T21:48:34.315Z"
   },
   {
    "duration": 5,
    "start_time": "2023-09-17T21:48:34.727Z"
   },
   {
    "duration": 3245,
    "start_time": "2023-09-17T21:48:35.236Z"
   },
   {
    "duration": 4,
    "start_time": "2023-09-17T21:48:49.630Z"
   },
   {
    "duration": 5,
    "start_time": "2023-09-17T21:48:50.478Z"
   },
   {
    "duration": 25,
    "start_time": "2023-09-17T21:48:50.872Z"
   },
   {
    "duration": 14,
    "start_time": "2023-09-17T21:49:34.314Z"
   },
   {
    "duration": 9,
    "start_time": "2023-09-17T21:49:42.494Z"
   },
   {
    "duration": 4,
    "start_time": "2023-09-17T21:50:10.474Z"
   },
   {
    "duration": 5,
    "start_time": "2023-09-17T21:50:11.402Z"
   },
   {
    "duration": 3092,
    "start_time": "2023-09-17T21:50:11.671Z"
   },
   {
    "duration": 5,
    "start_time": "2023-09-17T21:50:37.772Z"
   },
   {
    "duration": 5,
    "start_time": "2023-09-17T21:50:38.383Z"
   },
   {
    "duration": 24,
    "start_time": "2023-09-17T21:50:38.703Z"
   },
   {
    "duration": 5,
    "start_time": "2023-09-17T21:56:34.107Z"
   },
   {
    "duration": 5,
    "start_time": "2023-09-17T21:56:34.639Z"
   },
   {
    "duration": 24,
    "start_time": "2023-09-17T21:56:35.206Z"
   },
   {
    "duration": 4,
    "start_time": "2023-09-17T21:56:44.831Z"
   },
   {
    "duration": 5,
    "start_time": "2023-09-17T21:56:45.335Z"
   },
   {
    "duration": 3189,
    "start_time": "2023-09-17T21:56:45.890Z"
   },
   {
    "duration": 4,
    "start_time": "2023-09-17T21:57:03.330Z"
   },
   {
    "duration": 5,
    "start_time": "2023-09-17T21:57:28.699Z"
   },
   {
    "duration": 3162,
    "start_time": "2023-09-17T21:57:29.293Z"
   },
   {
    "duration": 6,
    "start_time": "2023-09-17T21:57:57.950Z"
   },
   {
    "duration": 3200,
    "start_time": "2023-09-17T21:57:58.413Z"
   },
   {
    "duration": 5,
    "start_time": "2023-09-17T21:58:07.678Z"
   },
   {
    "duration": 3076,
    "start_time": "2023-09-17T21:58:08.030Z"
   },
   {
    "duration": 7,
    "start_time": "2023-09-17T21:58:56.742Z"
   },
   {
    "duration": 23,
    "start_time": "2023-09-17T21:58:57.427Z"
   },
   {
    "duration": 4,
    "start_time": "2023-09-17T21:59:01.425Z"
   },
   {
    "duration": 5,
    "start_time": "2023-09-17T21:59:01.703Z"
   },
   {
    "duration": 3049,
    "start_time": "2023-09-17T21:59:02.043Z"
   },
   {
    "duration": 4,
    "start_time": "2023-09-17T22:03:16.473Z"
   },
   {
    "duration": 4,
    "start_time": "2023-09-17T22:03:17.036Z"
   },
   {
    "duration": 3004,
    "start_time": "2023-09-17T22:03:17.583Z"
   },
   {
    "duration": 3,
    "start_time": "2023-09-17T22:04:28.120Z"
   },
   {
    "duration": 5,
    "start_time": "2023-09-17T22:04:28.471Z"
   },
   {
    "duration": 3054,
    "start_time": "2023-09-17T22:04:28.885Z"
   },
   {
    "duration": 4,
    "start_time": "2023-09-17T22:05:44.837Z"
   },
   {
    "duration": 6,
    "start_time": "2023-09-17T22:05:45.228Z"
   },
   {
    "duration": 24,
    "start_time": "2023-09-17T22:05:45.682Z"
   },
   {
    "duration": 6,
    "start_time": "2023-09-17T22:06:04.105Z"
   },
   {
    "duration": 5,
    "start_time": "2023-09-17T22:06:04.502Z"
   },
   {
    "duration": 2867,
    "start_time": "2023-09-17T22:06:04.840Z"
   },
   {
    "duration": 2936,
    "start_time": "2023-09-17T22:06:07.723Z"
   },
   {
    "duration": 4,
    "start_time": "2023-09-17T22:06:37.912Z"
   },
   {
    "duration": 5,
    "start_time": "2023-09-17T22:06:38.370Z"
   },
   {
    "duration": 21,
    "start_time": "2023-09-17T22:06:38.927Z"
   },
   {
    "duration": 3,
    "start_time": "2023-09-17T22:06:51.174Z"
   },
   {
    "duration": 5,
    "start_time": "2023-09-17T22:06:51.442Z"
   },
   {
    "duration": 2875,
    "start_time": "2023-09-17T22:06:51.933Z"
   },
   {
    "duration": 4,
    "start_time": "2023-09-17T22:07:21.986Z"
   },
   {
    "duration": 5,
    "start_time": "2023-09-17T22:07:22.312Z"
   },
   {
    "duration": 2911,
    "start_time": "2023-09-17T22:07:22.843Z"
   },
   {
    "duration": 4,
    "start_time": "2023-09-17T22:07:38.891Z"
   },
   {
    "duration": 5,
    "start_time": "2023-09-17T22:07:40.662Z"
   },
   {
    "duration": 4,
    "start_time": "2023-09-17T22:07:44.103Z"
   },
   {
    "duration": 5,
    "start_time": "2023-09-17T22:07:44.445Z"
   },
   {
    "duration": 23,
    "start_time": "2023-09-17T22:07:44.830Z"
   },
   {
    "duration": 3,
    "start_time": "2023-09-17T22:08:17.369Z"
   },
   {
    "duration": 5,
    "start_time": "2023-09-17T22:08:18.110Z"
   },
   {
    "duration": 22,
    "start_time": "2023-09-17T22:08:18.703Z"
   },
   {
    "duration": 22,
    "start_time": "2023-09-17T22:08:19.487Z"
   },
   {
    "duration": 5,
    "start_time": "2023-09-17T22:08:51.118Z"
   },
   {
    "duration": 22,
    "start_time": "2023-09-17T22:08:51.643Z"
   },
   {
    "duration": 21,
    "start_time": "2023-09-17T22:08:52.370Z"
   },
   {
    "duration": 4,
    "start_time": "2023-09-17T22:08:58.602Z"
   },
   {
    "duration": 7,
    "start_time": "2023-09-17T22:08:59.384Z"
   },
   {
    "duration": 9,
    "start_time": "2023-09-17T22:09:00.363Z"
   },
   {
    "duration": 23,
    "start_time": "2023-09-17T22:09:01.169Z"
   },
   {
    "duration": 5,
    "start_time": "2023-09-17T22:09:03.430Z"
   },
   {
    "duration": 2904,
    "start_time": "2023-09-17T22:09:04.070Z"
   },
   {
    "duration": 2960,
    "start_time": "2023-09-17T22:09:06.976Z"
   },
   {
    "duration": 5,
    "start_time": "2023-09-17T22:09:43.370Z"
   },
   {
    "duration": 19,
    "start_time": "2023-09-17T22:09:43.770Z"
   },
   {
    "duration": 5,
    "start_time": "2023-09-17T22:09:54.814Z"
   },
   {
    "duration": 3081,
    "start_time": "2023-09-17T22:09:55.164Z"
   },
   {
    "duration": 5,
    "start_time": "2023-09-17T22:10:16.417Z"
   },
   {
    "duration": 3371,
    "start_time": "2023-09-17T22:10:17.169Z"
   },
   {
    "duration": 5,
    "start_time": "2023-09-17T22:10:26.592Z"
   },
   {
    "duration": 3317,
    "start_time": "2023-09-17T22:10:26.978Z"
   },
   {
    "duration": 4,
    "start_time": "2023-09-17T22:10:47.592Z"
   },
   {
    "duration": 3097,
    "start_time": "2023-09-17T22:10:48.011Z"
   },
   {
    "duration": 4,
    "start_time": "2023-09-17T22:12:04.431Z"
   },
   {
    "duration": 8,
    "start_time": "2023-09-17T22:12:04.874Z"
   },
   {
    "duration": 6,
    "start_time": "2023-09-17T22:12:05.345Z"
   },
   {
    "duration": 1422,
    "start_time": "2023-09-17T22:12:07.018Z"
   },
   {
    "duration": 6,
    "start_time": "2023-09-17T22:12:09.022Z"
   },
   {
    "duration": 2516,
    "start_time": "2023-09-17T22:12:10.378Z"
   },
   {
    "duration": 9,
    "start_time": "2023-09-17T22:12:41.904Z"
   },
   {
    "duration": 6,
    "start_time": "2023-09-17T22:13:22.565Z"
   },
   {
    "duration": 4,
    "start_time": "2023-09-17T22:13:37.121Z"
   },
   {
    "duration": 3,
    "start_time": "2023-09-17T22:13:50.404Z"
   },
   {
    "duration": 5,
    "start_time": "2023-09-17T22:13:53.890Z"
   },
   {
    "duration": 9,
    "start_time": "2023-09-17T22:14:12.997Z"
   },
   {
    "duration": 997,
    "start_time": "2023-09-17T22:14:37.665Z"
   },
   {
    "duration": 0,
    "start_time": "2023-09-17T22:14:38.663Z"
   },
   {
    "duration": 12,
    "start_time": "2023-09-17T22:15:13.976Z"
   },
   {
    "duration": 13,
    "start_time": "2023-09-17T22:15:18.792Z"
   },
   {
    "duration": 13,
    "start_time": "2023-09-17T22:15:51.213Z"
   },
   {
    "duration": 16,
    "start_time": "2023-09-17T22:16:07.016Z"
   },
   {
    "duration": 6,
    "start_time": "2023-09-17T22:16:31.839Z"
   },
   {
    "duration": 4,
    "start_time": "2023-09-17T22:16:32.259Z"
   },
   {
    "duration": 8,
    "start_time": "2023-09-17T22:16:48.018Z"
   },
   {
    "duration": 4,
    "start_time": "2023-09-17T22:16:48.302Z"
   },
   {
    "duration": 8,
    "start_time": "2023-09-17T22:16:52.470Z"
   },
   {
    "duration": 5,
    "start_time": "2023-09-17T22:16:52.915Z"
   },
   {
    "duration": 8,
    "start_time": "2023-09-17T22:17:03.125Z"
   },
   {
    "duration": 5,
    "start_time": "2023-09-17T22:17:04.240Z"
   },
   {
    "duration": 5,
    "start_time": "2023-09-17T22:17:10.959Z"
   },
   {
    "duration": 4,
    "start_time": "2023-09-17T22:17:11.938Z"
   },
   {
    "duration": 4,
    "start_time": "2023-09-17T22:17:22.098Z"
   },
   {
    "duration": 8,
    "start_time": "2023-09-17T22:17:23.030Z"
   },
   {
    "duration": 7,
    "start_time": "2023-09-17T22:17:23.408Z"
   },
   {
    "duration": 18,
    "start_time": "2023-09-17T22:17:23.769Z"
   },
   {
    "duration": 6,
    "start_time": "2023-09-17T22:17:24.970Z"
   },
   {
    "duration": 19,
    "start_time": "2023-09-17T22:17:25.471Z"
   },
   {
    "duration": 3,
    "start_time": "2023-09-17T22:17:44.245Z"
   },
   {
    "duration": 8,
    "start_time": "2023-09-17T22:17:44.740Z"
   },
   {
    "duration": 6,
    "start_time": "2023-09-17T22:17:45.575Z"
   },
   {
    "duration": 25,
    "start_time": "2023-09-17T22:17:46.039Z"
   },
   {
    "duration": 26,
    "start_time": "2023-09-17T22:17:50.550Z"
   },
   {
    "duration": 3,
    "start_time": "2023-09-17T22:19:05.073Z"
   },
   {
    "duration": 8,
    "start_time": "2023-09-17T22:19:05.981Z"
   },
   {
    "duration": 7,
    "start_time": "2023-09-17T22:19:06.768Z"
   },
   {
    "duration": 24,
    "start_time": "2023-09-17T22:19:08.147Z"
   },
   {
    "duration": 3,
    "start_time": "2023-09-17T22:19:16.671Z"
   },
   {
    "duration": 7,
    "start_time": "2023-09-17T22:19:17.437Z"
   },
   {
    "duration": 6,
    "start_time": "2023-09-17T22:19:18.110Z"
   },
   {
    "duration": 21,
    "start_time": "2023-09-17T22:19:19.039Z"
   },
   {
    "duration": 4,
    "start_time": "2023-09-17T22:20:07.368Z"
   },
   {
    "duration": 7,
    "start_time": "2023-09-17T22:20:08.002Z"
   },
   {
    "duration": 22,
    "start_time": "2023-09-17T22:20:10.945Z"
   },
   {
    "duration": 6,
    "start_time": "2023-09-17T22:20:13.236Z"
   },
   {
    "duration": 3113,
    "start_time": "2023-09-17T22:20:13.723Z"
   },
   {
    "duration": 4,
    "start_time": "2023-09-17T22:20:48.288Z"
   },
   {
    "duration": 23,
    "start_time": "2023-09-17T22:20:51.737Z"
   },
   {
    "duration": 5,
    "start_time": "2023-09-17T22:21:06.974Z"
   },
   {
    "duration": 21,
    "start_time": "2023-09-17T22:21:07.288Z"
   },
   {
    "duration": 4,
    "start_time": "2023-09-17T22:23:46.673Z"
   },
   {
    "duration": 7,
    "start_time": "2023-09-17T22:23:47.918Z"
   },
   {
    "duration": 6,
    "start_time": "2023-09-17T22:23:48.704Z"
   },
   {
    "duration": 24,
    "start_time": "2023-09-17T22:23:49.457Z"
   },
   {
    "duration": 3,
    "start_time": "2023-09-17T22:24:04.933Z"
   },
   {
    "duration": 23,
    "start_time": "2023-09-17T22:25:31.257Z"
   },
   {
    "duration": 5,
    "start_time": "2023-09-17T22:25:32.877Z"
   },
   {
    "duration": 3072,
    "start_time": "2023-09-17T22:25:33.353Z"
   },
   {
    "duration": 6,
    "start_time": "2023-09-17T22:28:52.827Z"
   },
   {
    "duration": 3313,
    "start_time": "2023-09-17T22:28:53.487Z"
   },
   {
    "duration": 4,
    "start_time": "2023-09-17T22:29:25.595Z"
   },
   {
    "duration": 7,
    "start_time": "2023-09-17T22:29:30.694Z"
   },
   {
    "duration": 1609,
    "start_time": "2023-09-17T22:29:31.123Z"
   },
   {
    "duration": 0,
    "start_time": "2023-09-17T22:29:32.734Z"
   },
   {
    "duration": 6,
    "start_time": "2023-09-17T22:30:06.936Z"
   },
   {
    "duration": 1690,
    "start_time": "2023-09-17T22:30:07.441Z"
   },
   {
    "duration": 6,
    "start_time": "2023-09-17T22:30:35.305Z"
   },
   {
    "duration": 1774,
    "start_time": "2023-09-17T22:30:35.755Z"
   },
   {
    "duration": 7,
    "start_time": "2023-09-17T22:30:54.079Z"
   },
   {
    "duration": 6,
    "start_time": "2023-09-17T22:31:02.742Z"
   },
   {
    "duration": 1921,
    "start_time": "2023-09-17T22:31:03.027Z"
   },
   {
    "duration": 7,
    "start_time": "2023-09-17T22:31:14.524Z"
   },
   {
    "duration": 1770,
    "start_time": "2023-09-17T22:31:18.941Z"
   },
   {
    "duration": 6,
    "start_time": "2023-09-17T22:31:35.398Z"
   },
   {
    "duration": 1757,
    "start_time": "2023-09-17T22:31:35.583Z"
   },
   {
    "duration": 7,
    "start_time": "2023-09-17T22:31:44.679Z"
   },
   {
    "duration": 1722,
    "start_time": "2023-09-17T22:31:45.097Z"
   },
   {
    "duration": 6,
    "start_time": "2023-09-17T22:33:05.931Z"
   },
   {
    "duration": 1627,
    "start_time": "2023-09-17T22:33:06.510Z"
   },
   {
    "duration": 1645,
    "start_time": "2023-09-17T22:33:08.139Z"
   },
   {
    "duration": 1733,
    "start_time": "2023-09-17T22:33:09.786Z"
   },
   {
    "duration": 6,
    "start_time": "2023-09-17T22:33:39.123Z"
   },
   {
    "duration": 1730,
    "start_time": "2023-09-17T22:33:39.780Z"
   },
   {
    "duration": 6,
    "start_time": "2023-09-17T22:34:01.997Z"
   },
   {
    "duration": 1689,
    "start_time": "2023-09-17T22:34:02.586Z"
   },
   {
    "duration": 1716,
    "start_time": "2023-09-17T22:34:09.349Z"
   },
   {
    "duration": 1849,
    "start_time": "2023-09-17T22:34:11.067Z"
   },
   {
    "duration": 63,
    "start_time": "2023-09-18T15:38:50.698Z"
   },
   {
    "duration": 1890,
    "start_time": "2023-09-18T15:38:55.211Z"
   },
   {
    "duration": 1025,
    "start_time": "2023-09-18T15:38:57.103Z"
   },
   {
    "duration": 27,
    "start_time": "2023-09-18T15:38:58.130Z"
   },
   {
    "duration": 17,
    "start_time": "2023-09-18T15:38:58.160Z"
   },
   {
    "duration": 16,
    "start_time": "2023-09-18T15:38:58.180Z"
   },
   {
    "duration": 56,
    "start_time": "2023-09-18T15:38:58.209Z"
   },
   {
    "duration": 62,
    "start_time": "2023-09-18T15:38:58.267Z"
   },
   {
    "duration": 41,
    "start_time": "2023-09-18T15:38:58.332Z"
   },
   {
    "duration": 73,
    "start_time": "2023-09-18T15:38:58.375Z"
   },
   {
    "duration": 69,
    "start_time": "2023-09-18T15:38:58.451Z"
   },
   {
    "duration": 79,
    "start_time": "2023-09-18T15:38:58.524Z"
   },
   {
    "duration": 23,
    "start_time": "2023-09-18T15:38:58.605Z"
   },
   {
    "duration": 412,
    "start_time": "2023-09-18T15:38:58.629Z"
   },
   {
    "duration": 471,
    "start_time": "2023-09-18T15:38:59.044Z"
   },
   {
    "duration": 383,
    "start_time": "2023-09-18T15:38:59.522Z"
   },
   {
    "duration": 22,
    "start_time": "2023-09-18T15:38:59.909Z"
   },
   {
    "duration": 3,
    "start_time": "2023-09-18T15:38:59.934Z"
   },
   {
    "duration": 9,
    "start_time": "2023-09-18T15:38:59.939Z"
   },
   {
    "duration": 14,
    "start_time": "2023-09-18T15:38:59.951Z"
   },
   {
    "duration": 6,
    "start_time": "2023-09-18T15:38:59.968Z"
   },
   {
    "duration": 12,
    "start_time": "2023-09-18T15:38:59.976Z"
   },
   {
    "duration": 58,
    "start_time": "2023-09-18T15:38:59.990Z"
   },
   {
    "duration": 41,
    "start_time": "2023-09-18T15:39:00.050Z"
   },
   {
    "duration": 70,
    "start_time": "2023-09-18T15:39:00.093Z"
   },
   {
    "duration": 97,
    "start_time": "2023-09-18T15:39:00.165Z"
   },
   {
    "duration": 171,
    "start_time": "2023-09-18T15:39:00.265Z"
   },
   {
    "duration": 187,
    "start_time": "2023-09-18T15:39:00.439Z"
   },
   {
    "duration": 622,
    "start_time": "2023-09-18T15:39:00.646Z"
   },
   {
    "duration": 5,
    "start_time": "2023-09-18T15:39:01.270Z"
   },
   {
    "duration": 28,
    "start_time": "2023-09-18T15:39:01.277Z"
   },
   {
    "duration": 47,
    "start_time": "2023-09-18T15:39:01.307Z"
   },
   {
    "duration": 41,
    "start_time": "2023-09-18T15:39:01.357Z"
   },
   {
    "duration": 38,
    "start_time": "2023-09-18T15:39:01.400Z"
   },
   {
    "duration": 49,
    "start_time": "2023-09-18T15:39:01.441Z"
   },
   {
    "duration": 77,
    "start_time": "2023-09-18T15:39:01.492Z"
   },
   {
    "duration": 33,
    "start_time": "2023-09-18T15:39:01.572Z"
   },
   {
    "duration": 39,
    "start_time": "2023-09-18T15:39:01.607Z"
   },
   {
    "duration": 55,
    "start_time": "2023-09-18T15:39:01.648Z"
   },
   {
    "duration": 21,
    "start_time": "2023-09-18T15:39:01.706Z"
   },
   {
    "duration": 4706,
    "start_time": "2023-09-18T15:39:01.730Z"
   },
   {
    "duration": 4367,
    "start_time": "2023-09-18T15:39:06.438Z"
   },
   {
    "duration": 4488,
    "start_time": "2023-09-18T15:39:10.812Z"
   },
   {
    "duration": 238,
    "start_time": "2023-09-18T15:40:12.466Z"
   },
   {
    "duration": 11,
    "start_time": "2023-09-18T15:40:43.283Z"
   },
   {
    "duration": 1999,
    "start_time": "2023-09-18T17:16:00.159Z"
   },
   {
    "duration": 1857,
    "start_time": "2023-09-18T17:16:02.161Z"
   },
   {
    "duration": 17,
    "start_time": "2023-09-18T17:16:04.020Z"
   },
   {
    "duration": 46,
    "start_time": "2023-09-18T17:16:04.038Z"
   },
   {
    "duration": 19,
    "start_time": "2023-09-18T17:16:04.086Z"
   },
   {
    "duration": 51,
    "start_time": "2023-09-18T17:16:04.106Z"
   },
   {
    "duration": 41,
    "start_time": "2023-09-18T17:16:04.167Z"
   },
   {
    "duration": 55,
    "start_time": "2023-09-18T17:16:04.210Z"
   },
   {
    "duration": 54,
    "start_time": "2023-09-18T17:16:04.267Z"
   },
   {
    "duration": 67,
    "start_time": "2023-09-18T17:16:04.323Z"
   },
   {
    "duration": 50,
    "start_time": "2023-09-18T17:16:04.391Z"
   },
   {
    "duration": 18,
    "start_time": "2023-09-18T17:16:04.456Z"
   },
   {
    "duration": 437,
    "start_time": "2023-09-18T17:16:04.476Z"
   },
   {
    "duration": 395,
    "start_time": "2023-09-18T17:16:04.916Z"
   },
   {
    "duration": 410,
    "start_time": "2023-09-18T17:16:05.313Z"
   },
   {
    "duration": 18,
    "start_time": "2023-09-18T17:16:05.725Z"
   },
   {
    "duration": 40,
    "start_time": "2023-09-18T17:16:05.745Z"
   },
   {
    "duration": 77,
    "start_time": "2023-09-18T17:16:05.787Z"
   },
   {
    "duration": 29,
    "start_time": "2023-09-18T17:16:05.868Z"
   },
   {
    "duration": 15,
    "start_time": "2023-09-18T17:16:05.899Z"
   },
   {
    "duration": 25,
    "start_time": "2023-09-18T17:16:05.916Z"
   },
   {
    "duration": 43,
    "start_time": "2023-09-18T17:16:05.942Z"
   },
   {
    "duration": 42,
    "start_time": "2023-09-18T17:16:05.987Z"
   },
   {
    "duration": 22,
    "start_time": "2023-09-18T17:16:06.030Z"
   },
   {
    "duration": 218,
    "start_time": "2023-09-18T17:16:06.055Z"
   },
   {
    "duration": 104,
    "start_time": "2023-09-18T17:16:06.274Z"
   },
   {
    "duration": 192,
    "start_time": "2023-09-18T17:16:06.381Z"
   },
   {
    "duration": 621,
    "start_time": "2023-09-18T17:16:06.583Z"
   },
   {
    "duration": 4,
    "start_time": "2023-09-18T17:16:07.206Z"
   },
   {
    "duration": 62,
    "start_time": "2023-09-18T17:16:07.212Z"
   },
   {
    "duration": 19,
    "start_time": "2023-09-18T17:16:07.277Z"
   },
   {
    "duration": 15,
    "start_time": "2023-09-18T17:16:07.298Z"
   },
   {
    "duration": 32,
    "start_time": "2023-09-18T17:16:07.314Z"
   },
   {
    "duration": 26,
    "start_time": "2023-09-18T17:16:07.348Z"
   },
   {
    "duration": 20,
    "start_time": "2023-09-18T17:16:07.376Z"
   },
   {
    "duration": 23,
    "start_time": "2023-09-18T17:16:07.398Z"
   },
   {
    "duration": 24,
    "start_time": "2023-09-18T17:16:07.422Z"
   },
   {
    "duration": 56,
    "start_time": "2023-09-18T17:16:07.448Z"
   },
   {
    "duration": 46,
    "start_time": "2023-09-18T17:16:07.505Z"
   },
   {
    "duration": 10,
    "start_time": "2023-09-18T17:16:07.554Z"
   },
   {
    "duration": 4016,
    "start_time": "2023-09-18T17:16:07.570Z"
   },
   {
    "duration": 3852,
    "start_time": "2023-09-18T17:16:11.588Z"
   },
   {
    "duration": 3892,
    "start_time": "2023-09-18T17:16:15.442Z"
   },
   {
    "duration": 5,
    "start_time": "2023-09-18T17:19:02.346Z"
   },
   {
    "duration": 11,
    "start_time": "2023-09-18T17:19:04.555Z"
   },
   {
    "duration": 11,
    "start_time": "2023-09-18T17:19:04.966Z"
   },
   {
    "duration": 9,
    "start_time": "2023-09-18T17:19:07.438Z"
   },
   {
    "duration": 10,
    "start_time": "2023-09-18T17:19:09.288Z"
   },
   {
    "duration": 173,
    "start_time": "2023-09-18T17:19:10.353Z"
   },
   {
    "duration": 1677,
    "start_time": "2023-09-18T17:19:16.450Z"
   },
   {
    "duration": 477,
    "start_time": "2023-09-18T17:19:18.129Z"
   },
   {
    "duration": 18,
    "start_time": "2023-09-18T17:19:18.611Z"
   },
   {
    "duration": 43,
    "start_time": "2023-09-18T17:19:18.633Z"
   },
   {
    "duration": 17,
    "start_time": "2023-09-18T17:19:18.678Z"
   },
   {
    "duration": 78,
    "start_time": "2023-09-18T17:19:18.697Z"
   },
   {
    "duration": 57,
    "start_time": "2023-09-18T17:19:18.777Z"
   },
   {
    "duration": 63,
    "start_time": "2023-09-18T17:19:18.836Z"
   },
   {
    "duration": 82,
    "start_time": "2023-09-18T17:19:18.901Z"
   },
   {
    "duration": 56,
    "start_time": "2023-09-18T17:19:18.986Z"
   },
   {
    "duration": 75,
    "start_time": "2023-09-18T17:19:19.044Z"
   },
   {
    "duration": 13,
    "start_time": "2023-09-18T17:19:19.121Z"
   },
   {
    "duration": 425,
    "start_time": "2023-09-18T17:19:19.138Z"
   },
   {
    "duration": 365,
    "start_time": "2023-09-18T17:19:19.571Z"
   },
   {
    "duration": 397,
    "start_time": "2023-09-18T17:19:19.938Z"
   },
   {
    "duration": 25,
    "start_time": "2023-09-18T17:19:20.337Z"
   },
   {
    "duration": 12,
    "start_time": "2023-09-18T17:19:20.364Z"
   },
   {
    "duration": 19,
    "start_time": "2023-09-18T17:19:20.378Z"
   },
   {
    "duration": 28,
    "start_time": "2023-09-18T17:19:20.399Z"
   },
   {
    "duration": 14,
    "start_time": "2023-09-18T17:19:20.429Z"
   },
   {
    "duration": 20,
    "start_time": "2023-09-18T17:19:20.445Z"
   },
   {
    "duration": 22,
    "start_time": "2023-09-18T17:19:20.469Z"
   },
   {
    "duration": 19,
    "start_time": "2023-09-18T17:19:20.493Z"
   },
   {
    "duration": 62,
    "start_time": "2023-09-18T17:19:20.514Z"
   },
   {
    "duration": 111,
    "start_time": "2023-09-18T17:19:20.578Z"
   },
   {
    "duration": 108,
    "start_time": "2023-09-18T17:19:20.759Z"
   },
   {
    "duration": 96,
    "start_time": "2023-09-18T17:19:20.880Z"
   },
   {
    "duration": 642,
    "start_time": "2023-09-18T17:19:20.980Z"
   },
   {
    "duration": 5,
    "start_time": "2023-09-18T17:19:21.624Z"
   },
   {
    "duration": 31,
    "start_time": "2023-09-18T17:19:21.632Z"
   },
   {
    "duration": 16,
    "start_time": "2023-09-18T17:19:21.665Z"
   },
   {
    "duration": 42,
    "start_time": "2023-09-18T17:19:21.683Z"
   },
   {
    "duration": 12,
    "start_time": "2023-09-18T17:19:21.727Z"
   },
   {
    "duration": 19,
    "start_time": "2023-09-18T17:19:21.741Z"
   },
   {
    "duration": 30,
    "start_time": "2023-09-18T17:19:21.768Z"
   },
   {
    "duration": 9,
    "start_time": "2023-09-18T17:19:21.800Z"
   },
   {
    "duration": 22,
    "start_time": "2023-09-18T17:19:21.811Z"
   },
   {
    "duration": 31,
    "start_time": "2023-09-18T17:19:21.835Z"
   },
   {
    "duration": 131,
    "start_time": "2023-09-18T17:19:21.868Z"
   },
   {
    "duration": 0,
    "start_time": "2023-09-18T17:19:22.001Z"
   },
   {
    "duration": 0,
    "start_time": "2023-09-18T17:19:22.003Z"
   },
   {
    "duration": 0,
    "start_time": "2023-09-18T17:19:22.003Z"
   },
   {
    "duration": 0,
    "start_time": "2023-09-18T17:19:22.005Z"
   },
   {
    "duration": 1722,
    "start_time": "2023-09-18T17:19:49.555Z"
   },
   {
    "duration": 471,
    "start_time": "2023-09-18T17:19:51.279Z"
   },
   {
    "duration": 27,
    "start_time": "2023-09-18T17:19:51.752Z"
   },
   {
    "duration": 19,
    "start_time": "2023-09-18T17:19:51.782Z"
   },
   {
    "duration": 36,
    "start_time": "2023-09-18T17:19:51.803Z"
   },
   {
    "duration": 63,
    "start_time": "2023-09-18T17:19:51.841Z"
   },
   {
    "duration": 39,
    "start_time": "2023-09-18T17:19:51.906Z"
   },
   {
    "duration": 54,
    "start_time": "2023-09-18T17:19:51.947Z"
   },
   {
    "duration": 94,
    "start_time": "2023-09-18T17:19:52.003Z"
   },
   {
    "duration": 70,
    "start_time": "2023-09-18T17:19:52.101Z"
   },
   {
    "duration": 71,
    "start_time": "2023-09-18T17:19:52.173Z"
   },
   {
    "duration": 29,
    "start_time": "2023-09-18T17:19:52.245Z"
   },
   {
    "duration": 454,
    "start_time": "2023-09-18T17:19:52.276Z"
   },
   {
    "duration": 388,
    "start_time": "2023-09-18T17:19:52.731Z"
   },
   {
    "duration": 401,
    "start_time": "2023-09-18T17:19:53.121Z"
   },
   {
    "duration": 18,
    "start_time": "2023-09-18T17:19:53.524Z"
   },
   {
    "duration": 28,
    "start_time": "2023-09-18T17:19:53.544Z"
   },
   {
    "duration": 27,
    "start_time": "2023-09-18T17:19:53.574Z"
   },
   {
    "duration": 33,
    "start_time": "2023-09-18T17:19:53.603Z"
   },
   {
    "duration": 43,
    "start_time": "2023-09-18T17:19:53.638Z"
   },
   {
    "duration": 45,
    "start_time": "2023-09-18T17:19:53.683Z"
   },
   {
    "duration": 83,
    "start_time": "2023-09-18T17:19:53.730Z"
   },
   {
    "duration": 32,
    "start_time": "2023-09-18T17:19:53.814Z"
   },
   {
    "duration": 24,
    "start_time": "2023-09-18T17:19:53.848Z"
   },
   {
    "duration": 110,
    "start_time": "2023-09-18T17:19:53.875Z"
   },
   {
    "duration": 178,
    "start_time": "2023-09-18T17:19:53.988Z"
   },
   {
    "duration": 182,
    "start_time": "2023-09-18T17:19:54.177Z"
   },
   {
    "duration": 542,
    "start_time": "2023-09-18T17:19:54.373Z"
   },
   {
    "duration": 5,
    "start_time": "2023-09-18T17:19:54.918Z"
   },
   {
    "duration": 35,
    "start_time": "2023-09-18T17:19:54.925Z"
   },
   {
    "duration": 26,
    "start_time": "2023-09-18T17:19:54.962Z"
   },
   {
    "duration": 30,
    "start_time": "2023-09-18T17:19:54.990Z"
   },
   {
    "duration": 17,
    "start_time": "2023-09-18T17:19:55.022Z"
   },
   {
    "duration": 44,
    "start_time": "2023-09-18T17:19:55.041Z"
   },
   {
    "duration": 41,
    "start_time": "2023-09-18T17:19:55.086Z"
   },
   {
    "duration": 39,
    "start_time": "2023-09-18T17:19:55.128Z"
   },
   {
    "duration": 22,
    "start_time": "2023-09-18T17:19:55.169Z"
   },
   {
    "duration": 16,
    "start_time": "2023-09-18T17:19:55.192Z"
   },
   {
    "duration": 41,
    "start_time": "2023-09-18T17:19:55.209Z"
   },
   {
    "duration": 19,
    "start_time": "2023-09-18T17:19:55.252Z"
   },
   {
    "duration": 4121,
    "start_time": "2023-09-18T17:19:55.273Z"
   },
   {
    "duration": 4097,
    "start_time": "2023-09-18T17:19:59.396Z"
   },
   {
    "duration": 3983,
    "start_time": "2023-09-18T17:20:03.495Z"
   },
   {
    "duration": 6,
    "start_time": "2023-09-18T17:23:20.330Z"
   },
   {
    "duration": 10,
    "start_time": "2023-09-18T17:23:21.072Z"
   },
   {
    "duration": 9,
    "start_time": "2023-09-18T17:23:21.906Z"
   },
   {
    "duration": 9,
    "start_time": "2023-09-18T17:23:24.513Z"
   },
   {
    "duration": 7,
    "start_time": "2023-09-18T17:23:25.278Z"
   },
   {
    "duration": 24,
    "start_time": "2023-09-18T17:23:26.019Z"
   },
   {
    "duration": 7,
    "start_time": "2023-09-18T17:23:28.531Z"
   },
   {
    "duration": 4067,
    "start_time": "2023-09-18T17:23:29.508Z"
   },
   {
    "duration": 5,
    "start_time": "2023-09-18T17:24:23.387Z"
   },
   {
    "duration": 7,
    "start_time": "2023-09-18T17:24:23.776Z"
   },
   {
    "duration": 4027,
    "start_time": "2023-09-18T17:24:24.172Z"
   },
   {
    "duration": 4,
    "start_time": "2023-09-18T17:25:22.220Z"
   },
   {
    "duration": 7,
    "start_time": "2023-09-18T17:25:22.587Z"
   },
   {
    "duration": 1894,
    "start_time": "2023-09-18T17:25:23.422Z"
   },
   {
    "duration": 2076,
    "start_time": "2023-09-18T17:25:28.662Z"
   },
   {
    "duration": 1938,
    "start_time": "2023-09-18T17:25:30.740Z"
   },
   {
    "duration": 5,
    "start_time": "2023-09-18T17:26:00.204Z"
   },
   {
    "duration": 1827,
    "start_time": "2023-09-18T17:26:03.941Z"
   },
   {
    "duration": 512,
    "start_time": "2023-09-18T17:26:05.775Z"
   },
   {
    "duration": 22,
    "start_time": "2023-09-18T17:26:06.290Z"
   },
   {
    "duration": 24,
    "start_time": "2023-09-18T17:26:06.315Z"
   },
   {
    "duration": 75,
    "start_time": "2023-09-18T17:26:06.342Z"
   },
   {
    "duration": 80,
    "start_time": "2023-09-18T17:26:06.419Z"
   },
   {
    "duration": 42,
    "start_time": "2023-09-18T17:26:06.501Z"
   },
   {
    "duration": 47,
    "start_time": "2023-09-18T17:26:06.560Z"
   },
   {
    "duration": 73,
    "start_time": "2023-09-18T17:26:06.609Z"
   },
   {
    "duration": 58,
    "start_time": "2023-09-18T17:26:06.691Z"
   },
   {
    "duration": 72,
    "start_time": "2023-09-18T17:26:06.751Z"
   },
   {
    "duration": 13,
    "start_time": "2023-09-18T17:26:06.825Z"
   },
   {
    "duration": 407,
    "start_time": "2023-09-18T17:26:06.840Z"
   },
   {
    "duration": 389,
    "start_time": "2023-09-18T17:26:07.258Z"
   },
   {
    "duration": 419,
    "start_time": "2023-09-18T17:26:07.649Z"
   },
   {
    "duration": 24,
    "start_time": "2023-09-18T17:26:08.077Z"
   },
   {
    "duration": 47,
    "start_time": "2023-09-18T17:26:08.104Z"
   },
   {
    "duration": 75,
    "start_time": "2023-09-18T17:26:08.153Z"
   },
   {
    "duration": 17,
    "start_time": "2023-09-18T17:26:08.230Z"
   },
   {
    "duration": 30,
    "start_time": "2023-09-18T17:26:08.249Z"
   },
   {
    "duration": 11,
    "start_time": "2023-09-18T17:26:08.281Z"
   },
   {
    "duration": 31,
    "start_time": "2023-09-18T17:26:08.293Z"
   },
   {
    "duration": 21,
    "start_time": "2023-09-18T17:26:08.326Z"
   },
   {
    "duration": 40,
    "start_time": "2023-09-18T17:26:08.349Z"
   },
   {
    "duration": 111,
    "start_time": "2023-09-18T17:26:08.391Z"
   },
   {
    "duration": 36,
    "start_time": "2023-09-18T17:26:08.558Z"
   },
   {
    "duration": 173,
    "start_time": "2023-09-18T17:26:08.596Z"
   },
   {
    "duration": 537,
    "start_time": "2023-09-18T17:26:08.778Z"
   },
   {
    "duration": 5,
    "start_time": "2023-09-18T17:26:09.317Z"
   },
   {
    "duration": 12,
    "start_time": "2023-09-18T17:26:09.325Z"
   },
   {
    "duration": 27,
    "start_time": "2023-09-18T17:26:09.340Z"
   },
   {
    "duration": 12,
    "start_time": "2023-09-18T17:26:09.373Z"
   },
   {
    "duration": 8,
    "start_time": "2023-09-18T17:26:09.387Z"
   },
   {
    "duration": 9,
    "start_time": "2023-09-18T17:26:09.397Z"
   },
   {
    "duration": 21,
    "start_time": "2023-09-18T17:26:09.407Z"
   },
   {
    "duration": 8,
    "start_time": "2023-09-18T17:26:09.430Z"
   },
   {
    "duration": 14,
    "start_time": "2023-09-18T17:26:09.439Z"
   },
   {
    "duration": 21,
    "start_time": "2023-09-18T17:26:09.462Z"
   },
   {
    "duration": 26,
    "start_time": "2023-09-18T17:26:09.487Z"
   },
   {
    "duration": 7,
    "start_time": "2023-09-18T17:26:09.515Z"
   },
   {
    "duration": 1883,
    "start_time": "2023-09-18T17:26:09.524Z"
   },
   {
    "duration": 1860,
    "start_time": "2023-09-18T17:26:11.409Z"
   },
   {
    "duration": 1880,
    "start_time": "2023-09-18T17:26:13.274Z"
   },
   {
    "duration": 1743,
    "start_time": "2023-09-18T17:30:05.281Z"
   },
   {
    "duration": 491,
    "start_time": "2023-09-18T17:30:07.026Z"
   },
   {
    "duration": 17,
    "start_time": "2023-09-18T17:30:07.521Z"
   },
   {
    "duration": 27,
    "start_time": "2023-09-18T17:30:07.566Z"
   },
   {
    "duration": 22,
    "start_time": "2023-09-18T17:30:07.595Z"
   },
   {
    "duration": 61,
    "start_time": "2023-09-18T17:30:07.619Z"
   },
   {
    "duration": 41,
    "start_time": "2023-09-18T17:30:07.681Z"
   },
   {
    "duration": 64,
    "start_time": "2023-09-18T17:30:07.723Z"
   },
   {
    "duration": 61,
    "start_time": "2023-09-18T17:30:07.791Z"
   },
   {
    "duration": 70,
    "start_time": "2023-09-18T17:30:07.863Z"
   },
   {
    "duration": 67,
    "start_time": "2023-09-18T17:30:07.935Z"
   },
   {
    "duration": 11,
    "start_time": "2023-09-18T17:30:08.005Z"
   },
   {
    "duration": 456,
    "start_time": "2023-09-18T17:30:08.020Z"
   },
   {
    "duration": 389,
    "start_time": "2023-09-18T17:30:08.478Z"
   },
   {
    "duration": 439,
    "start_time": "2023-09-18T17:30:08.868Z"
   },
   {
    "duration": 20,
    "start_time": "2023-09-18T17:30:09.309Z"
   },
   {
    "duration": 7,
    "start_time": "2023-09-18T17:30:09.331Z"
   },
   {
    "duration": 25,
    "start_time": "2023-09-18T17:30:09.341Z"
   },
   {
    "duration": 8,
    "start_time": "2023-09-18T17:30:09.376Z"
   },
   {
    "duration": 14,
    "start_time": "2023-09-18T17:30:09.388Z"
   },
   {
    "duration": 17,
    "start_time": "2023-09-18T17:30:09.404Z"
   },
   {
    "duration": 28,
    "start_time": "2023-09-18T17:30:09.422Z"
   },
   {
    "duration": 39,
    "start_time": "2023-09-18T17:30:09.452Z"
   },
   {
    "duration": 23,
    "start_time": "2023-09-18T17:30:09.493Z"
   },
   {
    "duration": 241,
    "start_time": "2023-09-18T17:30:09.517Z"
   },
   {
    "duration": 30,
    "start_time": "2023-09-18T17:30:09.764Z"
   },
   {
    "duration": 77,
    "start_time": "2023-09-18T17:30:09.797Z"
   },
   {
    "duration": 618,
    "start_time": "2023-09-18T17:30:09.878Z"
   },
   {
    "duration": 5,
    "start_time": "2023-09-18T17:30:10.498Z"
   },
   {
    "duration": 11,
    "start_time": "2023-09-18T17:30:10.504Z"
   },
   {
    "duration": 6,
    "start_time": "2023-09-18T17:30:10.517Z"
   },
   {
    "duration": 18,
    "start_time": "2023-09-18T17:30:10.525Z"
   },
   {
    "duration": 25,
    "start_time": "2023-09-18T17:30:10.545Z"
   },
   {
    "duration": 11,
    "start_time": "2023-09-18T17:30:10.580Z"
   },
   {
    "duration": 13,
    "start_time": "2023-09-18T17:30:10.593Z"
   },
   {
    "duration": 9,
    "start_time": "2023-09-18T17:30:10.608Z"
   },
   {
    "duration": 15,
    "start_time": "2023-09-18T17:30:10.619Z"
   },
   {
    "duration": 7,
    "start_time": "2023-09-18T17:30:10.636Z"
   },
   {
    "duration": 38,
    "start_time": "2023-09-18T17:30:10.645Z"
   },
   {
    "duration": 7,
    "start_time": "2023-09-18T17:30:10.691Z"
   },
   {
    "duration": 1908,
    "start_time": "2023-09-18T17:30:10.700Z"
   },
   {
    "duration": 1908,
    "start_time": "2023-09-18T17:30:12.609Z"
   },
   {
    "duration": 1926,
    "start_time": "2023-09-18T17:30:14.519Z"
   },
   {
    "duration": 2251,
    "start_time": "2023-09-18T18:04:45.612Z"
   },
   {
    "duration": 838,
    "start_time": "2023-09-18T18:04:47.866Z"
   },
   {
    "duration": 18,
    "start_time": "2023-09-18T18:04:48.706Z"
   },
   {
    "duration": 24,
    "start_time": "2023-09-18T18:04:48.726Z"
   },
   {
    "duration": 19,
    "start_time": "2023-09-18T18:04:48.752Z"
   },
   {
    "duration": 43,
    "start_time": "2023-09-18T18:04:48.773Z"
   },
   {
    "duration": 60,
    "start_time": "2023-09-18T18:04:48.817Z"
   },
   {
    "duration": 35,
    "start_time": "2023-09-18T18:04:48.879Z"
   },
   {
    "duration": 65,
    "start_time": "2023-09-18T18:04:48.916Z"
   },
   {
    "duration": 66,
    "start_time": "2023-09-18T18:04:48.984Z"
   },
   {
    "duration": 64,
    "start_time": "2023-09-18T18:04:49.052Z"
   },
   {
    "duration": 29,
    "start_time": "2023-09-18T18:04:49.118Z"
   },
   {
    "duration": 434,
    "start_time": "2023-09-18T18:04:49.149Z"
   },
   {
    "duration": 372,
    "start_time": "2023-09-18T18:04:49.585Z"
   },
   {
    "duration": 371,
    "start_time": "2023-09-18T18:04:49.959Z"
   },
   {
    "duration": 23,
    "start_time": "2023-09-18T18:04:50.332Z"
   },
   {
    "duration": 15,
    "start_time": "2023-09-18T18:04:50.356Z"
   },
   {
    "duration": 43,
    "start_time": "2023-09-18T18:04:50.373Z"
   },
   {
    "duration": 27,
    "start_time": "2023-09-18T18:04:50.418Z"
   },
   {
    "duration": 44,
    "start_time": "2023-09-18T18:04:50.447Z"
   },
   {
    "duration": 19,
    "start_time": "2023-09-18T18:04:50.493Z"
   },
   {
    "duration": 68,
    "start_time": "2023-09-18T18:04:50.514Z"
   },
   {
    "duration": 25,
    "start_time": "2023-09-18T18:04:50.584Z"
   },
   {
    "duration": 20,
    "start_time": "2023-09-18T18:04:50.611Z"
   },
   {
    "duration": 115,
    "start_time": "2023-09-18T18:04:50.633Z"
   },
   {
    "duration": 108,
    "start_time": "2023-09-18T18:04:50.751Z"
   },
   {
    "duration": 208,
    "start_time": "2023-09-18T18:04:50.862Z"
   },
   {
    "duration": 638,
    "start_time": "2023-09-18T18:04:51.075Z"
   },
   {
    "duration": 7,
    "start_time": "2023-09-18T18:04:51.715Z"
   },
   {
    "duration": 74,
    "start_time": "2023-09-18T18:04:51.725Z"
   },
   {
    "duration": 84,
    "start_time": "2023-09-18T18:04:51.802Z"
   },
   {
    "duration": 87,
    "start_time": "2023-09-18T18:04:51.887Z"
   },
   {
    "duration": 51,
    "start_time": "2023-09-18T18:04:51.976Z"
   },
   {
    "duration": 44,
    "start_time": "2023-09-18T18:04:52.029Z"
   },
   {
    "duration": 21,
    "start_time": "2023-09-18T18:04:52.075Z"
   },
   {
    "duration": 30,
    "start_time": "2023-09-18T18:04:52.098Z"
   },
   {
    "duration": 59,
    "start_time": "2023-09-18T18:04:52.130Z"
   },
   {
    "duration": 47,
    "start_time": "2023-09-18T18:04:52.191Z"
   },
   {
    "duration": 77,
    "start_time": "2023-09-18T18:04:52.241Z"
   },
   {
    "duration": 8,
    "start_time": "2023-09-18T18:04:52.320Z"
   },
   {
    "duration": 1827,
    "start_time": "2023-09-18T18:04:52.330Z"
   },
   {
    "duration": 1872,
    "start_time": "2023-09-18T18:04:54.159Z"
   },
   {
    "duration": 1806,
    "start_time": "2023-09-18T18:04:56.032Z"
   }
  ],
  "kernelspec": {
   "display_name": "Python 3 (ipykernel)",
   "language": "python",
   "name": "python3"
  },
  "language_info": {
   "codemirror_mode": {
    "name": "ipython",
    "version": 3
   },
   "file_extension": ".py",
   "mimetype": "text/x-python",
   "name": "python",
   "nbconvert_exporter": "python",
   "pygments_lexer": "ipython3",
   "version": "3.9.5"
  },
  "toc": {
   "base_numbering": 1,
   "nav_menu": {},
   "number_sections": true,
   "sideBar": true,
   "skip_h1_title": true,
   "title_cell": "Table of Contents",
   "title_sidebar": "Contents",
   "toc_cell": false,
   "toc_position": {},
   "toc_section_display": true,
   "toc_window_display": false
  }
 },
 "nbformat": 4,
 "nbformat_minor": 2
}
